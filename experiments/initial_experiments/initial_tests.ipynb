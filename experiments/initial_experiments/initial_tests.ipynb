{
 "cells": [
  {
   "cell_type": "code",
   "execution_count": 5,
   "metadata": {
    "collapsed": true
   },
   "outputs": [
    {
     "ename": "ImportError",
     "evalue": "cannot import name 'BaseSimulator' from 'sources.simulation_framework.base_simulator' (/home/marukku/Documents/CST_PartII_Project/Project_Files/impact_of_non_iid_data_in_federated_learning/sources/simulation_framework/base_simulator.py)",
     "output_type": "error",
     "traceback": [
      "\u001B[0;31m---------------------------------------------------------------------------\u001B[0m",
      "\u001B[0;31mImportError\u001B[0m                               Traceback (most recent call last)",
      "\u001B[0;32m/tmp/ipykernel_9947/2497998992.py\u001B[0m in \u001B[0;36m<module>\u001B[0;34m\u001B[0m\n\u001B[1;32m      3\u001B[0m \u001B[0;32mimport\u001B[0m \u001B[0mos\u001B[0m\u001B[0;34m\u001B[0m\u001B[0;34m\u001B[0m\u001B[0m\n\u001B[1;32m      4\u001B[0m \u001B[0;34m\u001B[0m\u001B[0m\n\u001B[0;32m----> 5\u001B[0;31m \u001B[0;32mfrom\u001B[0m \u001B[0msources\u001B[0m\u001B[0;34m.\u001B[0m\u001B[0msimulation_framework\u001B[0m\u001B[0;34m.\u001B[0m\u001B[0mbase_simulator\u001B[0m \u001B[0;32mimport\u001B[0m \u001B[0mBaseSimulator\u001B[0m\u001B[0;34m\u001B[0m\u001B[0;34m\u001B[0m\u001B[0m\n\u001B[0m\u001B[1;32m      6\u001B[0m \u001B[0;32mfrom\u001B[0m \u001B[0msources\u001B[0m\u001B[0;34m.\u001B[0m\u001B[0mdatasets\u001B[0m\u001B[0;34m.\u001B[0m\u001B[0mfemnist\u001B[0m\u001B[0;34m.\u001B[0m\u001B[0mfemnist_client_dataset_factory\u001B[0m \u001B[0;32mimport\u001B[0m \u001B[0mFemnistClientDatasetFactory\u001B[0m\u001B[0;34m\u001B[0m\u001B[0;34m\u001B[0m\u001B[0m\n\u001B[1;32m      7\u001B[0m \u001B[0;32mfrom\u001B[0m \u001B[0msources\u001B[0m\u001B[0;34m.\u001B[0m\u001B[0mflwr_parameters\u001B[0m\u001B[0;34m.\u001B[0m\u001B[0mdefault_parameters\u001B[0m \u001B[0;32mimport\u001B[0m \u001B[0mDEFAULT_SEED\u001B[0m\u001B[0;34m\u001B[0m\u001B[0;34m\u001B[0m\u001B[0m\n",
      "\u001B[0;31mImportError\u001B[0m: cannot import name 'BaseSimulator' from 'sources.simulation_framework.base_simulator' (/home/marukku/Documents/CST_PartII_Project/Project_Files/impact_of_non_iid_data_in_federated_learning/sources/simulation_framework/base_simulator.py)"
     ]
    }
   ],
   "source": [
    "import flwr as fl\n",
    "from pathlib import Path\n",
    "import os\n",
    "\n",
    "from sources.simulation_framework.base_simulator import BaseSimulator\n",
    "from sources.datasets.femnist.femnist_client_dataset_factory import FemnistClientDatasetFactory\n",
    "from sources.flwr_parameters.default_parameters import DEFAULT_SEED\n",
    "from sources.models.femnist.femnist_model_template import FemnistModelTemplate\n",
    "\n",
    "%load_ext autoreload\n",
    "%autoreload 2"
   ]
  },
  {
   "cell_type": "code",
   "execution_count": 6,
   "outputs": [],
   "source": [
    "base_dir = Path(os.getcwd()).parent.parent / \"data\""
   ],
   "metadata": {
    "collapsed": false,
    "pycharm": {
     "name": "#%%\n"
    }
   }
  },
  {
   "cell_type": "code",
   "execution_count": 7,
   "outputs": [
    {
     "ename": "NameError",
     "evalue": "name 'BaseSimulator' is not defined",
     "output_type": "error",
     "traceback": [
      "\u001B[0;31m---------------------------------------------------------------------------\u001B[0m",
      "\u001B[0;31mNameError\u001B[0m                                 Traceback (most recent call last)",
      "\u001B[0;32m/tmp/ipykernel_9947/3347433500.py\u001B[0m in \u001B[0;36m<module>\u001B[0;34m\u001B[0m\n\u001B[1;32m     26\u001B[0m \u001B[0mdataset_factory\u001B[0m \u001B[0;34m=\u001B[0m \u001B[0mFemnistClientDatasetFactory\u001B[0m\u001B[0;34m(\u001B[0m\u001B[0mbase_dir\u001B[0m\u001B[0;34m)\u001B[0m\u001B[0;34m\u001B[0m\u001B[0;34m\u001B[0m\u001B[0m\n\u001B[1;32m     27\u001B[0m \u001B[0;34m\u001B[0m\u001B[0m\n\u001B[0;32m---> 28\u001B[0;31m \u001B[0msimulator\u001B[0m \u001B[0;34m=\u001B[0m \u001B[0mBaseSimulator\u001B[0m\u001B[0;34m(\u001B[0m\u001B[0msimulation_parameters\u001B[0m\u001B[0;34m,\u001B[0m \u001B[0mstrategy\u001B[0m\u001B[0;34m,\u001B[0m \u001B[0mmodel_template\u001B[0m\u001B[0;34m,\u001B[0m \u001B[0mdataset_factory\u001B[0m\u001B[0;34m)\u001B[0m\u001B[0;34m\u001B[0m\u001B[0;34m\u001B[0m\u001B[0m\n\u001B[0m\u001B[1;32m     29\u001B[0m \u001B[0;34m\u001B[0m\u001B[0m\n",
      "\u001B[0;31mNameError\u001B[0m: name 'BaseSimulator' is not defined"
     ]
    }
   ],
   "source": [
    "def eval_config(rnd: int):\n",
    "    \"\"\"Return training configuration dict for each round.\n",
    "    Keep batch size fixed at 32, perform two rounds of training with one\n",
    "    local epoch, increase to two local epochs afterwards.\n",
    "    \"\"\"\n",
    "    config = {\n",
    "        \"batch_size\": 32,\n",
    "        \"val_steps\": 2\n",
    "    }\n",
    "    return config\n",
    "\n",
    "def fit_config(rnd: int):\n",
    "    \"\"\"Return training configuration dict for each round.\n",
    "    Keep batch size fixed at 32, perform two rounds of training with one\n",
    "    local epoch, increase to two local epochs afterwards.\n",
    "    \"\"\"\n",
    "    config = {\n",
    "        \"batch_size\": 32,\n",
    "        \"local_epochs\": 1 if rnd < 2 else 2,\n",
    "    }\n",
    "    return config\n",
    "\n",
    "simulation_parameters = {\"num_rounds\": 2, \"num_clients\": 2}\n",
    "strategy = fl.server.strategy.FedAvg(on_fit_config_fn=fit_config, on_evaluate_config_fn=eval_config)\n",
    "model_template = FemnistModelTemplate(DEFAULT_SEED)\n",
    "dataset_factory = FemnistClientDatasetFactory(base_dir)\n",
    "\n",
    "simulator = BaseSimulator(simulation_parameters, strategy, model_template, dataset_factory)"
   ],
   "metadata": {
    "collapsed": false,
    "pycharm": {
     "name": "#%%\n"
    }
   }
  },
  {
   "cell_type": "code",
   "execution_count": 4,
   "outputs": [
    {
     "name": "stderr",
     "output_type": "stream",
     "text": [
      "INFO flower 2021-12-01 23:39:50,055 | app.py:77 | Flower server running (insecure, 2 rounds)\n",
      "INFO flower 2021-12-01 23:39:50,056 | server.py:118 | Initializing global parameters\n",
      "INFO flower 2021-12-01 23:39:50,056 | server.py:304 | Requesting initial parameters from one random client\n",
      "INFO flower 2021-12-01 23:39:56,198 | server.py:307 | Received initial parameters from one random client\n",
      "INFO flower 2021-12-01 23:39:56,200 | server.py:120 | Evaluating initial parameters\n",
      "INFO flower 2021-12-01 23:39:56,201 | server.py:133 | FL starting\n",
      "DEBUG flower 2021-12-01 23:39:58,451 | server.py:251 | fit_round: strategy sampled 2 clients (out of 2)\n",
      "DEBUG flower 2021-12-01 23:39:59,534 | server.py:260 | fit_round received 2 results and 0 failures\n",
      "DEBUG flower 2021-12-01 23:39:59,578 | server.py:201 | evaluate_round: strategy sampled 2 clients (out of 2)\n",
      "DEBUG flower 2021-12-01 23:39:59,767 | server.py:210 | evaluate_round received 2 results and 0 failures\n",
      "DEBUG flower 2021-12-01 23:39:59,768 | server.py:251 | fit_round: strategy sampled 2 clients (out of 2)\n",
      "DEBUG flower 2021-12-01 23:40:00,435 | server.py:260 | fit_round received 2 results and 0 failures\n",
      "DEBUG flower 2021-12-01 23:40:00,480 | server.py:201 | evaluate_round: strategy sampled 2 clients (out of 2)\n",
      "DEBUG flower 2021-12-01 23:40:00,658 | server.py:210 | evaluate_round received 2 results and 0 failures\n",
      "INFO flower 2021-12-01 23:40:00,658 | server.py:172 | FL finished in 4.456271343999106\n",
      "INFO flower 2021-12-01 23:40:00,659 | app.py:119 | app_fit: losses_distributed [(1, 44610838528.0), (2, 2754.94921875)]\n",
      "INFO flower 2021-12-01 23:40:00,659 | app.py:120 | app_fit: metrics_distributed {}\n",
      "INFO flower 2021-12-01 23:40:00,660 | app.py:121 | app_fit: losses_centralized []\n",
      "INFO flower 2021-12-01 23:40:00,660 | app.py:122 | app_fit: metrics_centralized {}\n"
     ]
    }
   ],
   "source": [
    "from sources.flwr_parameters.simulation_parameters import DEFAULT_SERVER_ADDRESS\n",
    "\n",
    "fl.server.start_server(server_address=DEFAULT_SERVER_ADDRESS, strategy=strategy, config={\"num_rounds\": simulation_parameters[\"num_rounds\"]})"
   ],
   "metadata": {
    "collapsed": false,
    "pycharm": {
     "name": "#%%\n"
    }
   }
  },
  {
   "cell_type": "code",
   "execution_count": null,
   "outputs": [
    {
     "name": "stderr",
     "output_type": "stream",
     "text": [
      "INFO flower 2021-12-02 14:23:30,082 | app.py:77 | Flower server running (insecure, 2 rounds)\n",
      "INFO flower 2021-12-02 14:23:30,084 | server.py:118 | Initializing global parameters\n",
      "INFO flower 2021-12-02 14:23:30,086 | server.py:304 | Requesting initial parameters from one random client\n",
      "2021-12-02 14:23:32.121967: I tensorflow/stream_executor/cuda/cuda_gpu_executor.cc:939] successful NUMA node read from SysFS had negative value (-1), but there must be at least one NUMA node, so returning NUMA node zero\n",
      "2021-12-02 14:23:32.122589: W tensorflow/stream_executor/platform/default/dso_loader.cc:64] Could not load dynamic library 'libcudart.so.11.0'; dlerror: libcudart.so.11.0: cannot open shared object file: No such file or directory; LD_LIBRARY_PATH: \n",
      "2021-12-02 14:23:32.122690: W tensorflow/stream_executor/platform/default/dso_loader.cc:64] Could not load dynamic library 'libcublas.so.11'; dlerror: libcublas.so.11: cannot open shared object file: No such file or directory; LD_LIBRARY_PATH: \n",
      "2021-12-02 14:23:32.122787: W tensorflow/stream_executor/platform/default/dso_loader.cc:64] Could not load dynamic library 'libcublasLt.so.11'; dlerror: libcublasLt.so.11: cannot open shared object file: No such file or directory; LD_LIBRARY_PATH: \n",
      "2021-12-02 14:23:32.122879: W tensorflow/stream_executor/platform/default/dso_loader.cc:64] Could not load dynamic library 'libcufft.so.10'; dlerror: libcufft.so.10: cannot open shared object file: No such file or directory; LD_LIBRARY_PATH: \n",
      "2021-12-02 14:23:32.122995: W tensorflow/stream_executor/platform/default/dso_loader.cc:64] Could not load dynamic library 'libcurand.so.10'; dlerror: libcurand.so.10: cannot open shared object file: No such file or directory; LD_LIBRARY_PATH: \n",
      "2021-12-02 14:23:32.123083: W tensorflow/stream_executor/platform/default/dso_loader.cc:64] Could not load dynamic library 'libcusolver.so.11'; dlerror: libcusolver.so.11: cannot open shared object file: No such file or directory; LD_LIBRARY_PATH: \n",
      "2021-12-02 14:23:32.123169: W tensorflow/stream_executor/platform/default/dso_loader.cc:64] Could not load dynamic library 'libcusparse.so.11'; dlerror: libcusparse.so.11: cannot open shared object file: No such file or directory; LD_LIBRARY_PATH: \n",
      "2021-12-02 14:23:32.123262: W tensorflow/stream_executor/platform/default/dso_loader.cc:64] Could not load dynamic library 'libcudnn.so.8'; dlerror: libcudnn.so.8: cannot open shared object file: No such file or directory; LD_LIBRARY_PATH: \n",
      "2021-12-02 14:23:32.123302: W tensorflow/core/common_runtime/gpu/gpu_device.cc:1850] Cannot dlopen some GPU libraries. Please make sure the missing libraries mentioned above are installed properly if you would like to use GPU. Follow the guide at https://www.tensorflow.org/install/gpu for how to download and setup the required libraries for your platform.\n",
      "Skipping registering GPU devices...\n",
      "2021-12-02 14:23:32.124065: I tensorflow/core/platform/cpu_feature_guard.cc:151] This TensorFlow binary is optimized with oneAPI Deep Neural Network Library (oneDNN) to use the following CPU instructions in performance-critical operations:  AVX2 FMA\n",
      "To enable them in other operations, rebuild TensorFlow with the appropriate compiler flags.\n",
      "DEBUG flower 2021-12-02 14:23:32,278 | connection.py:36 | ChannelConnectivity.IDLE\n",
      "DEBUG flower 2021-12-02 14:23:32,281 | connection.py:36 | ChannelConnectivity.READY\n",
      "INFO flower 2021-12-02 14:23:32,282 | app.py:61 | Opened (insecure) gRPC connection\n",
      "DEBUG flower 2021-12-02 14:23:32,421 | connection.py:36 | ChannelConnectivity.IDLE\n",
      "DEBUG flower 2021-12-02 14:23:32,430 | connection.py:36 | ChannelConnectivity.CONNECTING\n",
      "INFO flower 2021-12-02 14:23:32,434 | app.py:61 | Opened (insecure) gRPC connection\n",
      "DEBUG flower 2021-12-02 14:23:32,484 | connection.py:36 | ChannelConnectivity.READY\n",
      "INFO flower 2021-12-02 14:23:32,489 | server.py:307 | Received initial parameters from one random client\n",
      "INFO flower 2021-12-02 14:23:32,491 | server.py:120 | Evaluating initial parameters\n",
      "INFO flower 2021-12-02 14:23:32,491 | server.py:133 | FL starting\n",
      "DEBUG flower 2021-12-02 14:23:32,492 | server.py:251 | fit_round: strategy sampled 2 clients (out of 2)\n"
     ]
    }
   ],
   "source": [
    "simulator.start_simulation()"
   ],
   "metadata": {
    "collapsed": false,
    "pycharm": {
     "name": "#%%\n",
     "is_executing": true
    }
   }
  }
 ],
 "metadata": {
  "kernelspec": {
   "display_name": "Python 3",
   "language": "python",
   "name": "python3"
  },
  "language_info": {
   "codemirror_mode": {
    "name": "ipython",
    "version": 2
   },
   "file_extension": ".py",
   "mimetype": "text/x-python",
   "name": "python",
   "nbconvert_exporter": "python",
   "pygments_lexer": "ipython2",
   "version": "2.7.6"
  }
 },
 "nbformat": 4,
 "nbformat_minor": 0
}