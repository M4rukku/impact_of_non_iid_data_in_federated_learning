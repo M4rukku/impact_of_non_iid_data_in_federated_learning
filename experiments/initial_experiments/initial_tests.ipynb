{
 "cells": [
  {
   "cell_type": "code",
   "execution_count": 1,
   "metadata": {
    "collapsed": true,
    "pycharm": {
     "is_executing": false
    }
   },
   "outputs": [],
   "source": [
    "import flwr as fl\n",
    "from pathlib import Path\n",
    "import os\n",
    "from sources.flwr_parameters.default_strategy_configs import \\\n",
    "    femnist_fit_config, femnist_eval_config\n",
    "\n",
    "from sources.datasets.femnist.femnist_client_dataset_factory import FemnistClientDatasetFactory\n",
    "from sources.flwr_parameters.default_parameters import DEFAULT_SEED\n",
    "from sources.models.femnist.femnist_model_template import FemnistModelTemplate\n",
    "from sources.flwr_strategies.model_logging_strategy_decorator import ModelLoggingStrategyDecorator\n",
    "from sources.flwr_strategies.evaluation_metrics_logging_strategy_decorator import EvaluationMetricsLoggingStrategyDecorator"
   ]
  },
  {
   "cell_type": "code",
   "execution_count": 2,
   "outputs": [],
   "source": [
    "from sources.simulation_framework.multiprocessing_simulator import MultiprocessingBasedSimulator\n",
    "base_dir = Path(os.getcwd()).parent.parent\n",
    "checkpoint_dir = base_dir / \"checkpoints\"\n",
    "data_dir = base_dir / \"data\"\n",
    "\n",
    "experiment_name = \"initial_experiment\"\n",
    "model_saving_dir = str(checkpoint_dir / experiment_name / \"models\")\n",
    "metrics_saving_dir = str(checkpoint_dir / experiment_name / \"metrics\")"
   ],
   "metadata": {
    "collapsed": false,
    "pycharm": {
     "name": "#%%\n",
     "is_executing": false
    }
   }
  },
  {
   "cell_type": "code",
   "execution_count": 3,
   "outputs": [],
   "source": [
    "\n",
    "simulation_parameters = {\"num_rounds\": 2, \"num_clients\": 2}\n",
    "strategy = fl.server.strategy.FedAvg(on_fit_config_fn=femnist_fit_config, \n",
    "                                     on_evaluate_config_fn=femnist_eval_config)\n",
    "\n",
    "\n",
    "strategy = EvaluationMetricsLoggingStrategyDecorator(\n",
    "    strategy=strategy,\n",
    "    metrics_logging_folder=metrics_saving_dir,\n",
    "    experiment_identifier=experiment_name\n",
    ")\n",
    "strategy = ModelLoggingStrategyDecorator(\n",
    "    strategy=strategy,\n",
    "    model_saving_folder=model_saving_dir,\n",
    "    experiment_identifier=experiment_name\n",
    ")\n",
    "\n",
    "model_template = FemnistModelTemplate(DEFAULT_SEED)\n",
    "dataset_factory = FemnistClientDatasetFactory(data_dir)\n",
    "\n",
    "simulator = MultiprocessingBasedSimulator(simulation_parameters, strategy, model_template, dataset_factory)"
   ],
   "metadata": {
    "collapsed": false,
    "pycharm": {
     "name": "#%%\n",
     "is_executing": false
    }
   }
  },
  {
   "cell_type": "code",
   "execution_count": 12,
   "outputs": [],
   "source": [
    "simulator.start_simulation()\n"
   ],
   "metadata": {
    "collapsed": false,
    "pycharm": {
     "name": "#%%\n",
     "is_executing": false
    }
   }
  }
 ],
 "metadata": {
  "kernelspec": {
   "display_name": "Python 3",
   "language": "python",
   "name": "python3"
  },
  "language_info": {
   "codemirror_mode": {
    "name": "ipython",
    "version": 2
   },
   "file_extension": ".py",
   "mimetype": "text/x-python",
   "name": "python",
   "nbconvert_exporter": "python",
   "pygments_lexer": "ipython2",
   "version": "2.7.6"
  },
  "pycharm": {
   "stem_cell": {
    "cell_type": "raw",
    "source": [],
    "metadata": {
     "collapsed": false
    }
   }
  }
 },
 "nbformat": 4,
 "nbformat_minor": 0
}