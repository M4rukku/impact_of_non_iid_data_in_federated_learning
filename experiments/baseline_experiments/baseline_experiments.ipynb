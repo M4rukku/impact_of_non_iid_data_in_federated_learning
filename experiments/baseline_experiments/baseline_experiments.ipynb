{
 "cells": [
  {
   "cell_type": "code",
   "execution_count": 1,
   "metadata": {
    "pycharm": {
     "is_executing": false
    }
   },
   "outputs": [
    {
     "data": {
      "text/plain": "<AddedDllDirectory('C:\\\\Program Files\\\\NVIDIA GPU Computing Toolkit\\\\CUDA\\\\v11.2\\\\bin')>"
     },
     "metadata": {},
     "output_type": "execute_result",
     "execution_count": 1
    }
   ],
   "source": [
    "import os\n",
    "import sys\n",
    "from pathlib import Path\n",
    "sys.path.append(str(Path(os.getcwd()).parent.parent.resolve()))\n",
    "dllpath = Path(\"C:\") /\"Program Files\" / \"NVIDIA GPU Computing Toolkit\" / \"CUDA\" / \"v11.2\" / \"bin\" \n",
    "dllstring = str(dllpath.resolve())\n",
    "os.add_dll_directory(dllstring)"
   ]
  },
  {
   "cell_type": "code",
   "execution_count": 2,
   "metadata": {
    "pycharm": {
     "is_executing": false,
     "name": "#%%\n"
    }
   },
   "outputs": [
    {
     "name": "stdout",
     "text": [
      "Default GPU Device: /device:GPU:0\n"
     ],
     "output_type": "stream"
    }
   ],
   "source": [
    "import tensorflow as tf\n",
    "if tf.test.gpu_device_name():\n",
    "    print('Default GPU Device: {}'.format(tf.test.gpu_device_name()))\n",
    "else:\n",
    "    print(\"Please install GPU version of TF\")"
   ]
  },
  {
   "cell_type": "code",
   "execution_count": 3,
   "metadata": {
    "pycharm": {
     "is_executing": false,
     "name": "#%%\n"
    }
   },
   "outputs": [],
   "source": [
    "from sources.dataset_utils.get_iid_dataset_utils import get_full_iid_dataset, \\\n",
    "    get_default_iid_dataset\n",
    "from sources.datasets.femnist.femnist_client_dataset import FemnistClientDataset\n",
    "from sources.datasets.shakespeare.shakespeare_client_dataset import ShakespeareClientDataset\n",
    "from sources.flwr_parameters.set_random_seeds import DEFAULT_SEED\n",
    "from sources.metrics.default_metrics import DEFAULT_METRICS\n",
    "from sources.metrics.sparse_metric_decorator import SparseMetricDecorator\n",
    "from sources.models.femnist.femnist_model_template import FemnistModelTemplate\n",
    "import tensorflow_addons as tfa\n",
    "from sources.models.shakespeare.shakespeare_model_template import ShakespeareModelTemplate"
   ]
  },
  {
   "cell_type": "code",
   "execution_count": 4,
   "metadata": {
    "pycharm": {
     "is_executing": false,
     "name": "#%%\n"
    }
   },
   "outputs": [],
   "source": [
    "data_dir = Path(os.getcwd()).parent.parent / \"data\""
   ]
  },
  {
   "cell_type": "code",
   "execution_count": 5,
   "metadata": {
    "pycharm": {
     "is_executing": false,
     "name": "#%%\n"
    }
   },
   "outputs": [],
   "source": [
    "model_template = FemnistModelTemplate(DEFAULT_SEED)\n",
    "model = model_template.get_model()\n",
    "dataset_v = FemnistClientDataset(str(data_dir), \"1\")"
   ]
  },
  {
   "cell_type": "code",
   "execution_count": 6,
   "metadata": {
    "pycharm": {
     "is_executing": false,
     "name": "#%%\n"
    }
   },
   "outputs": [],
   "source": [
    "dataset = get_full_iid_dataset(\"femnist\")"
   ]
  },
  {
   "cell_type": "code",
   "execution_count": 7,
   "metadata": {
    "pycharm": {
     "is_executing": false,
     "name": "#%%\n"
    }
   },
   "outputs": [],
   "source": [
    "model = model_template.get_model()\n",
    "optimizer = model_template.get_optimizer(0.001)\n",
    "loss = model_template.get_loss()"
   ]
  },
  {
   "cell_type": "code",
   "execution_count": 8,
   "metadata": {
    "pycharm": {
     "is_executing": false,
     "name": "#%%\n"
    }
   },
   "outputs": [],
   "source": [
    "model.compile(optimizer=optimizer,\n",
    "              loss=loss,\n",
    "              metrics=[\"accuracy\", \n",
    "                       SparseMetricDecorator(tfa.metrics.MatthewsCorrelationCoefficient(model_template.num_classes)), \n",
    "                       SparseMetricDecorator(tfa.metrics.F1Score(model_template.num_classes, name=\"macro_f1_score\", average='macro')),\n",
    "                       SparseMetricDecorator( tfa.metrics.F1Score(model_template.num_classes, name=\"micro_f1_score\", average='micro'))\n",
    "                       ])"
   ]
  },
  {
   "cell_type": "code",
   "execution_count": 19,
   "metadata": {
    "pycharm": {
     "is_executing": true,
     "name": "#%%\n"
    }
   },
   "outputs": [
    {
     "name": "stdout",
     "output_type": "stream",
     "text": [
      "Epoch 1/100\n",
      "100/100 [==============================] - 3s 18ms/step - loss: 5.1414 - accuracy: 0.1391 - MatthewsCorrelationCoefficient: 0.0888 - macro_f1_score: 0.0270 - micro_f1_score: 0.1391 - val_loss: 3.5974 - val_accuracy: 0.2302 - val_MatthewsCorrelationCoefficient: 0.1922 - val_macro_f1_score: 0.0442 - val_micro_f1_score: 0.2302\n",
      "Epoch 2/100\n",
      "100/100 [==============================] - 1s 12ms/step - loss: 2.9301 - accuracy: 0.3094 - MatthewsCorrelationCoefficient: 0.2741 - macro_f1_score: 0.0707 - micro_f1_score: 0.3094 - val_loss: 3.2611 - val_accuracy: 0.3938 - val_MatthewsCorrelationCoefficient: 0.3652 - val_macro_f1_score: 0.0996 - val_micro_f1_score: 0.3938\n",
      "Epoch 3/100\n",
      "100/100 [==============================] - 1s 12ms/step - loss: 2.4779 - accuracy: 0.4353 - MatthewsCorrelationCoefficient: 0.4067 - macro_f1_score: 0.1242 - micro_f1_score: 0.4353 - val_loss: 2.8870 - val_accuracy: 0.4719 - val_MatthewsCorrelationCoefficient: 0.4475 - val_macro_f1_score: 0.1498 - val_micro_f1_score: 0.4719\n",
      "Epoch 4/100\n",
      "100/100 [==============================] - 1s 12ms/step - loss: 2.0799 - accuracy: 0.5147 - MatthewsCorrelationCoefficient: 0.4904 - macro_f1_score: 0.1661 - micro_f1_score: 0.5147 - val_loss: 2.7419 - val_accuracy: 0.4271 - val_MatthewsCorrelationCoefficient: 0.4032 - val_macro_f1_score: 0.1286 - val_micro_f1_score: 0.4271\n",
      "Epoch 5/100\n",
      "100/100 [==============================] - 1s 12ms/step - loss: 1.9385 - accuracy: 0.5491 - MatthewsCorrelationCoefficient: 0.5274 - macro_f1_score: 0.1938 - micro_f1_score: 0.5491 - val_loss: 2.4416 - val_accuracy: 0.5250 - val_MatthewsCorrelationCoefficient: 0.5042 - val_macro_f1_score: 0.1921 - val_micro_f1_score: 0.5250\n",
      "Epoch 6/100\n",
      "100/100 [==============================] - 1s 13ms/step - loss: 1.6543 - accuracy: 0.5987 - MatthewsCorrelationCoefficient: 0.5790 - macro_f1_score: 0.2252 - micro_f1_score: 0.5987 - val_loss: 2.3620 - val_accuracy: 0.5583 - val_MatthewsCorrelationCoefficient: 0.5394 - val_macro_f1_score: 0.2084 - val_micro_f1_score: 0.5583\n",
      "Epoch 7/100\n",
      "100/100 [==============================] - 1s 12ms/step - loss: 1.4488 - accuracy: 0.6228 - MatthewsCorrelationCoefficient: 0.6052 - macro_f1_score: 0.2546 - micro_f1_score: 0.6228 - val_loss: 2.2829 - val_accuracy: 0.5760 - val_MatthewsCorrelationCoefficient: 0.5584 - val_macro_f1_score: 0.2202 - val_micro_f1_score: 0.5760\n",
      "Epoch 8/100\n",
      "100/100 [==============================] - 1s 12ms/step - loss: 1.4172 - accuracy: 0.6441 - MatthewsCorrelationCoefficient: 0.6273 - macro_f1_score: 0.2610 - micro_f1_score: 0.6441 - val_loss: 2.0784 - val_accuracy: 0.6010 - val_MatthewsCorrelationCoefficient: 0.5836 - val_macro_f1_score: 0.2344 - val_micro_f1_score: 0.6010\n",
      "Epoch 9/100\n",
      "100/100 [==============================] - 1s 12ms/step - loss: 1.2856 - accuracy: 0.6572 - MatthewsCorrelationCoefficient: 0.6408 - macro_f1_score: 0.2882 - micro_f1_score: 0.6572 - val_loss: 2.0858 - val_accuracy: 0.5990 - val_MatthewsCorrelationCoefficient: 0.5813 - val_macro_f1_score: 0.2474 - val_micro_f1_score: 0.5990\n",
      "Epoch 10/100\n",
      "100/100 [==============================] - 1s 13ms/step - loss: 1.2266 - accuracy: 0.6753 - MatthewsCorrelationCoefficient: 0.6607 - macro_f1_score: 0.3049 - micro_f1_score: 0.6753 - val_loss: 1.9781 - val_accuracy: 0.6198 - val_MatthewsCorrelationCoefficient: 0.6033 - val_macro_f1_score: 0.2629 - val_micro_f1_score: 0.6198\n",
      "Epoch 11/100\n",
      "100/100 [==============================] - 1s 13ms/step - loss: 1.1139 - accuracy: 0.6978 - MatthewsCorrelationCoefficient: 0.6836 - macro_f1_score: 0.3221 - micro_f1_score: 0.6978 - val_loss: 2.0162 - val_accuracy: 0.6198 - val_MatthewsCorrelationCoefficient: 0.6044 - val_macro_f1_score: 0.2668 - val_micro_f1_score: 0.6198\n",
      "Epoch 12/100\n",
      "100/100 [==============================] - 1s 13ms/step - loss: 1.4198 - accuracy: 0.6388 - MatthewsCorrelationCoefficient: 0.6220 - macro_f1_score: 0.2942 - micro_f1_score: 0.6388 - val_loss: 2.6117 - val_accuracy: 0.4771 - val_MatthewsCorrelationCoefficient: 0.4543 - val_macro_f1_score: 0.1549 - val_micro_f1_score: 0.4771\n",
      "Epoch 13/100\n",
      "100/100 [==============================] - 1s 13ms/step - loss: 1.6871 - accuracy: 0.5672 - MatthewsCorrelationCoefficient: 0.5463 - macro_f1_score: 0.2186 - micro_f1_score: 0.5672 - val_loss: 2.2075 - val_accuracy: 0.5771 - val_MatthewsCorrelationCoefficient: 0.5593 - val_macro_f1_score: 0.2283 - val_micro_f1_score: 0.5771\n",
      "Epoch 14/100\n",
      "100/100 [==============================] - 1s 13ms/step - loss: 1.4329 - accuracy: 0.6344 - MatthewsCorrelationCoefficient: 0.6174 - macro_f1_score: 0.2648 - micro_f1_score: 0.6344 - val_loss: 2.0030 - val_accuracy: 0.6010 - val_MatthewsCorrelationCoefficient: 0.5843 - val_macro_f1_score: 0.2587 - val_micro_f1_score: 0.6010\n",
      "Epoch 15/100\n",
      "100/100 [==============================] - 1s 13ms/step - loss: 1.2365 - accuracy: 0.6656 - MatthewsCorrelationCoefficient: 0.6498 - macro_f1_score: 0.2864 - micro_f1_score: 0.6656 - val_loss: 1.9553 - val_accuracy: 0.6177 - val_MatthewsCorrelationCoefficient: 0.6020 - val_macro_f1_score: 0.2643 - val_micro_f1_score: 0.6177\n",
      "Epoch 16/100\n",
      "100/100 [==============================] - 1s 13ms/step - loss: 1.1421 - accuracy: 0.6900 - MatthewsCorrelationCoefficient: 0.6761 - macro_f1_score: 0.3301 - micro_f1_score: 0.6900 - val_loss: 1.8415 - val_accuracy: 0.6438 - val_MatthewsCorrelationCoefficient: 0.6290 - val_macro_f1_score: 0.3165 - val_micro_f1_score: 0.6438\n",
      "Epoch 17/100\n",
      "100/100 [==============================] - 1s 13ms/step - loss: 1.0049 - accuracy: 0.7294 - MatthewsCorrelationCoefficient: 0.7167 - macro_f1_score: 0.3519 - micro_f1_score: 0.7294 - val_loss: 1.8188 - val_accuracy: 0.6667 - val_MatthewsCorrelationCoefficient: 0.6524 - val_macro_f1_score: 0.3298 - val_micro_f1_score: 0.6667\n",
      "Epoch 18/100\n",
      "100/100 [==============================] - 1s 13ms/step - loss: 1.0076 - accuracy: 0.7194 - MatthewsCorrelationCoefficient: 0.7065 - macro_f1_score: 0.3517 - micro_f1_score: 0.7194 - val_loss: 1.7648 - val_accuracy: 0.6573 - val_MatthewsCorrelationCoefficient: 0.6434 - val_macro_f1_score: 0.3104 - val_micro_f1_score: 0.6573\n",
      "Epoch 19/100\n",
      "100/100 [==============================] - 1s 13ms/step - loss: 0.9620 - accuracy: 0.7319 - MatthewsCorrelationCoefficient: 0.7195 - macro_f1_score: 0.3783 - micro_f1_score: 0.7319 - val_loss: 1.7510 - val_accuracy: 0.6698 - val_MatthewsCorrelationCoefficient: 0.6563 - val_macro_f1_score: 0.3254 - val_micro_f1_score: 0.6698\n",
      "Epoch 20/100\n",
      "100/100 [==============================] - 1s 13ms/step - loss: 0.9084 - accuracy: 0.7453 - MatthewsCorrelationCoefficient: 0.7337 - macro_f1_score: 0.3781 - micro_f1_score: 0.7453 - val_loss: 1.7409 - val_accuracy: 0.6812 - val_MatthewsCorrelationCoefficient: 0.6685 - val_macro_f1_score: 0.3375 - val_micro_f1_score: 0.6812\n",
      "Epoch 21/100\n",
      "100/100 [==============================] - 1s 13ms/step - loss: 0.9178 - accuracy: 0.7500 - MatthewsCorrelationCoefficient: 0.7388 - macro_f1_score: 0.3818 - micro_f1_score: 0.7500 - val_loss: 1.6265 - val_accuracy: 0.6906 - val_MatthewsCorrelationCoefficient: 0.6779 - val_macro_f1_score: 0.3501 - val_micro_f1_score: 0.6906\n",
      "Epoch 22/100\n",
      "100/100 [==============================] - 1s 13ms/step - loss: 0.8167 - accuracy: 0.7706 - MatthewsCorrelationCoefficient: 0.7601 - macro_f1_score: 0.4181 - micro_f1_score: 0.7706 - val_loss: 1.6947 - val_accuracy: 0.6698 - val_MatthewsCorrelationCoefficient: 0.6558 - val_macro_f1_score: 0.3248 - val_micro_f1_score: 0.6698\n",
      "Epoch 23/100\n",
      "100/100 [==============================] - 1s 13ms/step - loss: 0.7894 - accuracy: 0.7772 - MatthewsCorrelationCoefficient: 0.7669 - macro_f1_score: 0.4129 - micro_f1_score: 0.7772 - val_loss: 1.6423 - val_accuracy: 0.7000 - val_MatthewsCorrelationCoefficient: 0.6874 - val_macro_f1_score: 0.3578 - val_micro_f1_score: 0.7000\n",
      "Epoch 24/100\n",
      "100/100 [==============================] - 1s 13ms/step - loss: 0.7575 - accuracy: 0.7878 - MatthewsCorrelationCoefficient: 0.7779 - macro_f1_score: 0.4296 - micro_f1_score: 0.7878 - val_loss: 1.7134 - val_accuracy: 0.6948 - val_MatthewsCorrelationCoefficient: 0.6831 - val_macro_f1_score: 0.3739 - val_micro_f1_score: 0.6948\n",
      "Epoch 25/100\n"
     ]
    },
    {
     "name": "stdout",
     "output_type": "stream",
     "text": [
      "100/100 [==============================] - 1s 13ms/step - loss: 0.8109 - accuracy: 0.7769 - MatthewsCorrelationCoefficient: 0.7670 - macro_f1_score: 0.4327 - micro_f1_score: 0.7769 - val_loss: 1.6469 - val_accuracy: 0.6917 - val_MatthewsCorrelationCoefficient: 0.6793 - val_macro_f1_score: 0.3396 - val_micro_f1_score: 0.6917\n",
      "Epoch 26/100\n",
      "100/100 [==============================] - 1s 13ms/step - loss: 0.7653 - accuracy: 0.7859 - MatthewsCorrelationCoefficient: 0.7758 - macro_f1_score: 0.4194 - micro_f1_score: 0.7859 - val_loss: 1.6655 - val_accuracy: 0.6938 - val_MatthewsCorrelationCoefficient: 0.6817 - val_macro_f1_score: 0.3742 - val_micro_f1_score: 0.6938\n",
      "Epoch 27/100\n",
      "100/100 [==============================] - 1s 13ms/step - loss: 0.7577 - accuracy: 0.7909 - MatthewsCorrelationCoefficient: 0.7816 - macro_f1_score: 0.4492 - micro_f1_score: 0.7909 - val_loss: 1.4969 - val_accuracy: 0.7208 - val_MatthewsCorrelationCoefficient: 0.7093 - val_macro_f1_score: 0.3947 - val_micro_f1_score: 0.7208\n",
      "Epoch 28/100\n",
      "100/100 [==============================] - 1s 13ms/step - loss: 0.7271 - accuracy: 0.7966 - MatthewsCorrelationCoefficient: 0.7873 - macro_f1_score: 0.4357 - micro_f1_score: 0.7966 - val_loss: 1.6190 - val_accuracy: 0.7156 - val_MatthewsCorrelationCoefficient: 0.7041 - val_macro_f1_score: 0.3829 - val_micro_f1_score: 0.7156\n",
      "Epoch 29/100\n",
      "100/100 [==============================] - 1s 13ms/step - loss: 0.7283 - accuracy: 0.7866 - MatthewsCorrelationCoefficient: 0.7769 - macro_f1_score: 0.4361 - micro_f1_score: 0.7866 - val_loss: 1.6026 - val_accuracy: 0.7115 - val_MatthewsCorrelationCoefficient: 0.7001 - val_macro_f1_score: 0.3821 - val_micro_f1_score: 0.7115\n",
      "Epoch 30/100\n",
      "100/100 [==============================] - 1s 13ms/step - loss: 0.6812 - accuracy: 0.8025 - MatthewsCorrelationCoefficient: 0.7934 - macro_f1_score: 0.4407 - micro_f1_score: 0.8025 - val_loss: 1.5679 - val_accuracy: 0.7063 - val_MatthewsCorrelationCoefficient: 0.6949 - val_macro_f1_score: 0.3891 - val_micro_f1_score: 0.7063\n",
      "Epoch 31/100\n",
      "100/100 [==============================] - 1s 13ms/step - loss: 0.6950 - accuracy: 0.8019 - MatthewsCorrelationCoefficient: 0.7930 - macro_f1_score: 0.4371 - micro_f1_score: 0.8019 - val_loss: 1.5486 - val_accuracy: 0.7115 - val_MatthewsCorrelationCoefficient: 0.7001 - val_macro_f1_score: 0.3968 - val_micro_f1_score: 0.7115\n",
      "Epoch 32/100\n",
      "100/100 [==============================] - 1s 13ms/step - loss: 0.6552 - accuracy: 0.8138 - MatthewsCorrelationCoefficient: 0.8054 - macro_f1_score: 0.4487 - micro_f1_score: 0.8138 - val_loss: 1.5382 - val_accuracy: 0.7125 - val_MatthewsCorrelationCoefficient: 0.7010 - val_macro_f1_score: 0.3864 - val_micro_f1_score: 0.7125\n",
      "Epoch 33/100\n",
      "100/100 [==============================] - 1s 13ms/step - loss: 0.6808 - accuracy: 0.8069 - MatthewsCorrelationCoefficient: 0.7983 - macro_f1_score: 0.4596 - micro_f1_score: 0.8069 - val_loss: 1.5569 - val_accuracy: 0.7281 - val_MatthewsCorrelationCoefficient: 0.7174 - val_macro_f1_score: 0.4022 - val_micro_f1_score: 0.7281\n",
      "Epoch 34/100\n",
      "100/100 [==============================] - 1s 13ms/step - loss: 0.6455 - accuracy: 0.8119 - MatthewsCorrelationCoefficient: 0.8033 - macro_f1_score: 0.4751 - micro_f1_score: 0.8119 - val_loss: 1.5262 - val_accuracy: 0.7156 - val_MatthewsCorrelationCoefficient: 0.7043 - val_macro_f1_score: 0.3927 - val_micro_f1_score: 0.7156\n",
      "Epoch 35/100\n",
      "100/100 [==============================] - 1s 13ms/step - loss: 0.6391 - accuracy: 0.8097 - MatthewsCorrelationCoefficient: 0.8012 - macro_f1_score: 0.4750 - micro_f1_score: 0.8097 - val_loss: 1.4975 - val_accuracy: 0.7250 - val_MatthewsCorrelationCoefficient: 0.7138 - val_macro_f1_score: 0.3993 - val_micro_f1_score: 0.7250\n",
      "Epoch 36/100\n",
      "100/100 [==============================] - 1s 13ms/step - loss: 0.6313 - accuracy: 0.8200 - MatthewsCorrelationCoefficient: 0.8119 - macro_f1_score: 0.4678 - micro_f1_score: 0.8200 - val_loss: 1.4692 - val_accuracy: 0.7125 - val_MatthewsCorrelationCoefficient: 0.7008 - val_macro_f1_score: 0.3760 - val_micro_f1_score: 0.7125\n",
      "Epoch 37/100\n",
      "100/100 [==============================] - 1s 13ms/step - loss: 0.5755 - accuracy: 0.8244 - MatthewsCorrelationCoefficient: 0.8168 - macro_f1_score: 0.4770 - micro_f1_score: 0.8244 - val_loss: 1.4984 - val_accuracy: 0.7344 - val_MatthewsCorrelationCoefficient: 0.7237 - val_macro_f1_score: 0.4102 - val_micro_f1_score: 0.7344\n",
      "Epoch 38/100\n",
      "100/100 [==============================] - 1s 13ms/step - loss: 0.5870 - accuracy: 0.8225 - MatthewsCorrelationCoefficient: 0.8144 - macro_f1_score: 0.4847 - micro_f1_score: 0.8225 - val_loss: 1.4336 - val_accuracy: 0.7198 - val_MatthewsCorrelationCoefficient: 0.7082 - val_macro_f1_score: 0.3796 - val_micro_f1_score: 0.7198\n",
      "Epoch 39/100\n",
      "100/100 [==============================] - 1s 13ms/step - loss: 0.5994 - accuracy: 0.8178 - MatthewsCorrelationCoefficient: 0.8098 - macro_f1_score: 0.4718 - micro_f1_score: 0.8178 - val_loss: 1.4818 - val_accuracy: 0.7219 - val_MatthewsCorrelationCoefficient: 0.7104 - val_macro_f1_score: 0.4046 - val_micro_f1_score: 0.7219\n",
      "Epoch 40/100\n",
      "100/100 [==============================] - 1s 13ms/step - loss: 0.5763 - accuracy: 0.8363 - MatthewsCorrelationCoefficient: 0.8287 - macro_f1_score: 0.4906 - micro_f1_score: 0.8363 - val_loss: 1.5132 - val_accuracy: 0.7208 - val_MatthewsCorrelationCoefficient: 0.7096 - val_macro_f1_score: 0.3969 - val_micro_f1_score: 0.7208\n",
      "Epoch 41/100\n",
      "100/100 [==============================] - 1s 13ms/step - loss: 0.5923 - accuracy: 0.8269 - MatthewsCorrelationCoefficient: 0.8191 - macro_f1_score: 0.4961 - micro_f1_score: 0.8269 - val_loss: 1.5775 - val_accuracy: 0.7260 - val_MatthewsCorrelationCoefficient: 0.7156 - val_macro_f1_score: 0.4078 - val_micro_f1_score: 0.7260\n",
      "Epoch 42/100\n",
      "100/100 [==============================] - 1s 13ms/step - loss: 0.6024 - accuracy: 0.8303 - MatthewsCorrelationCoefficient: 0.8226 - macro_f1_score: 0.4979 - micro_f1_score: 0.8303 - val_loss: 1.4401 - val_accuracy: 0.7354 - val_MatthewsCorrelationCoefficient: 0.7257 - val_macro_f1_score: 0.4268 - val_micro_f1_score: 0.7354\n",
      "Epoch 43/100\n",
      "100/100 [==============================] - 1s 13ms/step - loss: 0.5903 - accuracy: 0.8250 - MatthewsCorrelationCoefficient: 0.8173 - macro_f1_score: 0.5020 - micro_f1_score: 0.8250 - val_loss: 1.4688 - val_accuracy: 0.7385 - val_MatthewsCorrelationCoefficient: 0.7281 - val_macro_f1_score: 0.4046 - val_micro_f1_score: 0.7385\n",
      "Epoch 44/100\n",
      "100/100 [==============================] - 1s 13ms/step - loss: 0.5784 - accuracy: 0.8300 - MatthewsCorrelationCoefficient: 0.8221 - macro_f1_score: 0.4842 - micro_f1_score: 0.8300 - val_loss: 1.4273 - val_accuracy: 0.7490 - val_MatthewsCorrelationCoefficient: 0.7387 - val_macro_f1_score: 0.4246 - val_micro_f1_score: 0.7490\n",
      "Epoch 45/100\n",
      "100/100 [==============================] - 1s 13ms/step - loss: 0.5577 - accuracy: 0.8300 - MatthewsCorrelationCoefficient: 0.8221 - macro_f1_score: 0.4703 - micro_f1_score: 0.8300 - val_loss: 1.4418 - val_accuracy: 0.7417 - val_MatthewsCorrelationCoefficient: 0.7312 - val_macro_f1_score: 0.4253 - val_micro_f1_score: 0.7417\n",
      "Epoch 46/100\n",
      "100/100 [==============================] - 1s 13ms/step - loss: 0.5558 - accuracy: 0.8334 - MatthewsCorrelationCoefficient: 0.8261 - macro_f1_score: 0.4945 - micro_f1_score: 0.8334 - val_loss: 1.4851 - val_accuracy: 0.7333 - val_MatthewsCorrelationCoefficient: 0.7234 - val_macro_f1_score: 0.4191 - val_micro_f1_score: 0.7333\n",
      "Epoch 47/100\n",
      "100/100 [==============================] - 1s 13ms/step - loss: 0.7010 - accuracy: 0.8066 - MatthewsCorrelationCoefficient: 0.7979 - macro_f1_score: 0.4586 - micro_f1_score: 0.8066 - val_loss: 1.7207 - val_accuracy: 0.6562 - val_MatthewsCorrelationCoefficient: 0.6418 - val_macro_f1_score: 0.3244 - val_micro_f1_score: 0.6562\n",
      "Epoch 48/100\n",
      "100/100 [==============================] - 1s 13ms/step - loss: 0.8827 - accuracy: 0.7559 - MatthewsCorrelationCoefficient: 0.7447 - macro_f1_score: 0.4047 - micro_f1_score: 0.7559 - val_loss: 1.5951 - val_accuracy: 0.6969 - val_MatthewsCorrelationCoefficient: 0.6844 - val_macro_f1_score: 0.3609 - val_micro_f1_score: 0.6969\n",
      "Epoch 49/100\n"
     ]
    },
    {
     "name": "stdout",
     "output_type": "stream",
     "text": [
      "100/100 [==============================] - 1s 13ms/step - loss: 0.7993 - accuracy: 0.7709 - MatthewsCorrelationCoefficient: 0.7605 - macro_f1_score: 0.4206 - micro_f1_score: 0.7709 - val_loss: 1.5199 - val_accuracy: 0.6948 - val_MatthewsCorrelationCoefficient: 0.6820 - val_macro_f1_score: 0.3781 - val_micro_f1_score: 0.6948\n",
      "Epoch 50/100\n",
      "100/100 [==============================] - 1s 13ms/step - loss: 0.7298 - accuracy: 0.7909 - MatthewsCorrelationCoefficient: 0.7814 - macro_f1_score: 0.4298 - micro_f1_score: 0.7909 - val_loss: 1.5101 - val_accuracy: 0.7063 - val_MatthewsCorrelationCoefficient: 0.6941 - val_macro_f1_score: 0.3910 - val_micro_f1_score: 0.7063\n",
      "Epoch 51/100\n",
      "100/100 [==============================] - 1s 13ms/step - loss: 0.6619 - accuracy: 0.8103 - MatthewsCorrelationCoefficient: 0.8015 - macro_f1_score: 0.4601 - micro_f1_score: 0.8103 - val_loss: 1.5182 - val_accuracy: 0.7010 - val_MatthewsCorrelationCoefficient: 0.6888 - val_macro_f1_score: 0.3747 - val_micro_f1_score: 0.7010\n",
      "Epoch 52/100\n",
      "100/100 [==============================] - 1s 13ms/step - loss: 0.6649 - accuracy: 0.8047 - MatthewsCorrelationCoefficient: 0.7958 - macro_f1_score: 0.4683 - micro_f1_score: 0.8047 - val_loss: 1.4728 - val_accuracy: 0.7135 - val_MatthewsCorrelationCoefficient: 0.7015 - val_macro_f1_score: 0.3894 - val_micro_f1_score: 0.7135\n",
      "Epoch 53/100\n",
      "100/100 [==============================] - 1s 13ms/step - loss: 0.6689 - accuracy: 0.7994 - MatthewsCorrelationCoefficient: 0.7906 - macro_f1_score: 0.4590 - micro_f1_score: 0.7994 - val_loss: 1.5351 - val_accuracy: 0.7073 - val_MatthewsCorrelationCoefficient: 0.6953 - val_macro_f1_score: 0.3882 - val_micro_f1_score: 0.7073\n",
      "Epoch 54/100\n",
      "100/100 [==============================] - 1s 13ms/step - loss: 0.6295 - accuracy: 0.8197 - MatthewsCorrelationCoefficient: 0.8118 - macro_f1_score: 0.4877 - micro_f1_score: 0.8197 - val_loss: 1.4612 - val_accuracy: 0.6990 - val_MatthewsCorrelationCoefficient: 0.6865 - val_macro_f1_score: 0.3763 - val_micro_f1_score: 0.6990\n",
      "Epoch 55/100\n",
      "100/100 [==============================] - 1s 13ms/step - loss: 0.6598 - accuracy: 0.8119 - MatthewsCorrelationCoefficient: 0.8034 - macro_f1_score: 0.4746 - micro_f1_score: 0.8119 - val_loss: 1.5069 - val_accuracy: 0.7208 - val_MatthewsCorrelationCoefficient: 0.7096 - val_macro_f1_score: 0.4067 - val_micro_f1_score: 0.7208\n",
      "Epoch 56/100\n",
      "100/100 [==============================] - 1s 13ms/step - loss: 0.6225 - accuracy: 0.8200 - MatthewsCorrelationCoefficient: 0.8119 - macro_f1_score: 0.4865 - micro_f1_score: 0.8200 - val_loss: 1.4266 - val_accuracy: 0.7312 - val_MatthewsCorrelationCoefficient: 0.7203 - val_macro_f1_score: 0.4092 - val_micro_f1_score: 0.7312\n",
      "Epoch 57/100\n",
      "100/100 [==============================] - 1s 13ms/step - loss: 0.5964 - accuracy: 0.8247 - MatthewsCorrelationCoefficient: 0.8167 - macro_f1_score: 0.4965 - micro_f1_score: 0.8247 - val_loss: 1.4325 - val_accuracy: 0.7312 - val_MatthewsCorrelationCoefficient: 0.7203 - val_macro_f1_score: 0.4250 - val_micro_f1_score: 0.7312\n",
      "Epoch 58/100\n",
      "100/100 [==============================] - 1s 13ms/step - loss: 0.6092 - accuracy: 0.8250 - MatthewsCorrelationCoefficient: 0.8170 - macro_f1_score: 0.4943 - micro_f1_score: 0.8250 - val_loss: 1.4246 - val_accuracy: 0.7302 - val_MatthewsCorrelationCoefficient: 0.7192 - val_macro_f1_score: 0.4081 - val_micro_f1_score: 0.7302\n",
      "Epoch 59/100\n",
      "100/100 [==============================] - 1s 13ms/step - loss: 0.5921 - accuracy: 0.8238 - MatthewsCorrelationCoefficient: 0.8158 - macro_f1_score: 0.4911 - micro_f1_score: 0.8238 - val_loss: 1.4625 - val_accuracy: 0.7208 - val_MatthewsCorrelationCoefficient: 0.7095 - val_macro_f1_score: 0.4147 - val_micro_f1_score: 0.7208\n",
      "Epoch 60/100\n",
      "100/100 [==============================] - 1s 13ms/step - loss: 0.5620 - accuracy: 0.8369 - MatthewsCorrelationCoefficient: 0.8294 - macro_f1_score: 0.4917 - micro_f1_score: 0.8369 - val_loss: 1.3840 - val_accuracy: 0.7312 - val_MatthewsCorrelationCoefficient: 0.7205 - val_macro_f1_score: 0.4342 - val_micro_f1_score: 0.7312\n",
      "Epoch 61/100\n",
      "100/100 [==============================] - 1s 13ms/step - loss: 0.5919 - accuracy: 0.8281 - MatthewsCorrelationCoefficient: 0.8203 - macro_f1_score: 0.5077 - micro_f1_score: 0.8281 - val_loss: 1.4179 - val_accuracy: 0.7437 - val_MatthewsCorrelationCoefficient: 0.7333 - val_macro_f1_score: 0.4307 - val_micro_f1_score: 0.7437\n",
      "Epoch 62/100\n",
      "100/100 [==============================] - 1s 13ms/step - loss: 0.5610 - accuracy: 0.8291 - MatthewsCorrelationCoefficient: 0.8215 - macro_f1_score: 0.4929 - micro_f1_score: 0.8291 - val_loss: 1.3764 - val_accuracy: 0.7396 - val_MatthewsCorrelationCoefficient: 0.7289 - val_macro_f1_score: 0.4416 - val_micro_f1_score: 0.7396\n",
      "Epoch 63/100\n",
      "100/100 [==============================] - 1s 13ms/step - loss: 0.5465 - accuracy: 0.8288 - MatthewsCorrelationCoefficient: 0.8210 - macro_f1_score: 0.4851 - micro_f1_score: 0.8288 - val_loss: 1.4010 - val_accuracy: 0.7344 - val_MatthewsCorrelationCoefficient: 0.7235 - val_macro_f1_score: 0.4349 - val_micro_f1_score: 0.7344\n",
      "Epoch 64/100\n",
      "100/100 [==============================] - 1s 13ms/step - loss: 0.5600 - accuracy: 0.8381 - MatthewsCorrelationCoefficient: 0.8308 - macro_f1_score: 0.4978 - micro_f1_score: 0.8381 - val_loss: 1.4548 - val_accuracy: 0.7323 - val_MatthewsCorrelationCoefficient: 0.7215 - val_macro_f1_score: 0.4357 - val_micro_f1_score: 0.7323\n",
      "Epoch 65/100\n",
      "100/100 [==============================] - 1s 13ms/step - loss: 0.5157 - accuracy: 0.8419 - MatthewsCorrelationCoefficient: 0.8347 - macro_f1_score: 0.5233 - micro_f1_score: 0.8419 - val_loss: 1.3380 - val_accuracy: 0.7417 - val_MatthewsCorrelationCoefficient: 0.7310 - val_macro_f1_score: 0.4301 - val_micro_f1_score: 0.7417\n",
      "Epoch 66/100\n",
      "100/100 [==============================] - 1s 13ms/step - loss: 0.5620 - accuracy: 0.8384 - MatthewsCorrelationCoefficient: 0.8314 - macro_f1_score: 0.5057 - micro_f1_score: 0.8384 - val_loss: 1.3452 - val_accuracy: 0.7385 - val_MatthewsCorrelationCoefficient: 0.7280 - val_macro_f1_score: 0.4416 - val_micro_f1_score: 0.7385\n",
      "Epoch 67/100\n",
      "100/100 [==============================] - 1s 13ms/step - loss: 0.5114 - accuracy: 0.8447 - MatthewsCorrelationCoefficient: 0.8375 - macro_f1_score: 0.5244 - micro_f1_score: 0.8447 - val_loss: 1.3516 - val_accuracy: 0.7448 - val_MatthewsCorrelationCoefficient: 0.7346 - val_macro_f1_score: 0.4349 - val_micro_f1_score: 0.7448\n",
      "Epoch 68/100\n",
      "100/100 [==============================] - 1s 13ms/step - loss: 0.5345 - accuracy: 0.8409 - MatthewsCorrelationCoefficient: 0.8340 - macro_f1_score: 0.5077 - micro_f1_score: 0.8409 - val_loss: 1.3893 - val_accuracy: 0.7302 - val_MatthewsCorrelationCoefficient: 0.7202 - val_macro_f1_score: 0.4394 - val_micro_f1_score: 0.7302\n",
      "Epoch 69/100\n",
      "100/100 [==============================] - 1s 13ms/step - loss: 0.5840 - accuracy: 0.8272 - MatthewsCorrelationCoefficient: 0.8195 - macro_f1_score: 0.4997 - micro_f1_score: 0.8272 - val_loss: 1.3430 - val_accuracy: 0.7375 - val_MatthewsCorrelationCoefficient: 0.7269 - val_macro_f1_score: 0.4334 - val_micro_f1_score: 0.7375\n",
      "Epoch 70/100\n",
      "100/100 [==============================] - 1s 13ms/step - loss: 0.5270 - accuracy: 0.8397 - MatthewsCorrelationCoefficient: 0.8325 - macro_f1_score: 0.4876 - micro_f1_score: 0.8397 - val_loss: 1.3708 - val_accuracy: 0.7396 - val_MatthewsCorrelationCoefficient: 0.7292 - val_macro_f1_score: 0.4541 - val_micro_f1_score: 0.7396\n",
      "Epoch 71/100\n",
      "100/100 [==============================] - 1s 13ms/step - loss: 0.5288 - accuracy: 0.8413 - MatthewsCorrelationCoefficient: 0.8341 - macro_f1_score: 0.5290 - micro_f1_score: 0.8413 - val_loss: 1.3542 - val_accuracy: 0.7385 - val_MatthewsCorrelationCoefficient: 0.7279 - val_macro_f1_score: 0.4534 - val_micro_f1_score: 0.7385\n",
      "Epoch 72/100\n",
      "100/100 [==============================] - 1s 13ms/step - loss: 0.5510 - accuracy: 0.8344 - MatthewsCorrelationCoefficient: 0.8272 - macro_f1_score: 0.5055 - micro_f1_score: 0.8344 - val_loss: 1.3784 - val_accuracy: 0.7479 - val_MatthewsCorrelationCoefficient: 0.7376 - val_macro_f1_score: 0.4510 - val_micro_f1_score: 0.7479\n",
      "Epoch 73/100\n"
     ]
    },
    {
     "name": "stdout",
     "output_type": "stream",
     "text": [
      "100/100 [==============================] - 1s 13ms/step - loss: 0.4983 - accuracy: 0.8481 - MatthewsCorrelationCoefficient: 0.8413 - macro_f1_score: 0.5194 - micro_f1_score: 0.8481 - val_loss: 1.3774 - val_accuracy: 0.7469 - val_MatthewsCorrelationCoefficient: 0.7369 - val_macro_f1_score: 0.4394 - val_micro_f1_score: 0.7469\n",
      "Epoch 74/100\n",
      "100/100 [==============================] - 1s 13ms/step - loss: 0.5016 - accuracy: 0.8466 - MatthewsCorrelationCoefficient: 0.8396 - macro_f1_score: 0.5081 - micro_f1_score: 0.8466 - val_loss: 1.3533 - val_accuracy: 0.7427 - val_MatthewsCorrelationCoefficient: 0.7324 - val_macro_f1_score: 0.4398 - val_micro_f1_score: 0.7427\n",
      "Epoch 75/100\n",
      "100/100 [==============================] - 1s 13ms/step - loss: 0.5076 - accuracy: 0.8600 - MatthewsCorrelationCoefficient: 0.8538 - macro_f1_score: 0.5248 - micro_f1_score: 0.8600 - val_loss: 1.3329 - val_accuracy: 0.7531 - val_MatthewsCorrelationCoefficient: 0.7432 - val_macro_f1_score: 0.4527 - val_micro_f1_score: 0.7531\n",
      "Epoch 76/100\n",
      "100/100 [==============================] - 1s 13ms/step - loss: 0.4738 - accuracy: 0.8612 - MatthewsCorrelationCoefficient: 0.8552 - macro_f1_score: 0.5152 - micro_f1_score: 0.8612 - val_loss: 1.3318 - val_accuracy: 0.7458 - val_MatthewsCorrelationCoefficient: 0.7356 - val_macro_f1_score: 0.4506 - val_micro_f1_score: 0.7458\n",
      "Epoch 77/100\n",
      "100/100 [==============================] - 1s 13ms/step - loss: 0.4826 - accuracy: 0.8487 - MatthewsCorrelationCoefficient: 0.8420 - macro_f1_score: 0.5270 - micro_f1_score: 0.8487 - val_loss: 1.3588 - val_accuracy: 0.7427 - val_MatthewsCorrelationCoefficient: 0.7323 - val_macro_f1_score: 0.4533 - val_micro_f1_score: 0.7427\n",
      "Epoch 78/100\n",
      "100/100 [==============================] - 1s 13ms/step - loss: 0.4759 - accuracy: 0.8597 - MatthewsCorrelationCoefficient: 0.8532 - macro_f1_score: 0.5357 - micro_f1_score: 0.8597 - val_loss: 1.3627 - val_accuracy: 0.7500 - val_MatthewsCorrelationCoefficient: 0.7400 - val_macro_f1_score: 0.4440 - val_micro_f1_score: 0.7500\n",
      "Epoch 79/100\n",
      "100/100 [==============================] - 1s 13ms/step - loss: 0.5089 - accuracy: 0.8444 - MatthewsCorrelationCoefficient: 0.8376 - macro_f1_score: 0.5543 - micro_f1_score: 0.8444 - val_loss: 1.3277 - val_accuracy: 0.7490 - val_MatthewsCorrelationCoefficient: 0.7390 - val_macro_f1_score: 0.4524 - val_micro_f1_score: 0.7490\n",
      "Epoch 80/100\n",
      "100/100 [==============================] - 1s 13ms/step - loss: 0.4791 - accuracy: 0.8631 - MatthewsCorrelationCoefficient: 0.8570 - macro_f1_score: 0.5298 - micro_f1_score: 0.8631 - val_loss: 1.3045 - val_accuracy: 0.7510 - val_MatthewsCorrelationCoefficient: 0.7410 - val_macro_f1_score: 0.4517 - val_micro_f1_score: 0.7510\n",
      "Epoch 81/100\n",
      "100/100 [==============================] - 1s 13ms/step - loss: 0.4437 - accuracy: 0.8609 - MatthewsCorrelationCoefficient: 0.8548 - macro_f1_score: 0.5544 - micro_f1_score: 0.8609 - val_loss: 1.4048 - val_accuracy: 0.7615 - val_MatthewsCorrelationCoefficient: 0.7519 - val_macro_f1_score: 0.4636 - val_micro_f1_score: 0.7615\n",
      "Epoch 82/100\n",
      "100/100 [==============================] - 1s 13ms/step - loss: 0.4649 - accuracy: 0.8612 - MatthewsCorrelationCoefficient: 0.8550 - macro_f1_score: 0.5180 - micro_f1_score: 0.8612 - val_loss: 1.3659 - val_accuracy: 0.7552 - val_MatthewsCorrelationCoefficient: 0.7455 - val_macro_f1_score: 0.4793 - val_micro_f1_score: 0.7552\n",
      "Epoch 83/100\n",
      "100/100 [==============================] - 1s 13ms/step - loss: 0.4959 - accuracy: 0.8562 - MatthewsCorrelationCoefficient: 0.8499 - macro_f1_score: 0.5465 - micro_f1_score: 0.8562 - val_loss: 1.3138 - val_accuracy: 0.7573 - val_MatthewsCorrelationCoefficient: 0.7476 - val_macro_f1_score: 0.4623 - val_micro_f1_score: 0.7573\n",
      "Epoch 84/100\n",
      "100/100 [==============================] - 1s 13ms/step - loss: 0.5079 - accuracy: 0.8466 - MatthewsCorrelationCoefficient: 0.8397 - macro_f1_score: 0.5211 - micro_f1_score: 0.8466 - val_loss: 1.3690 - val_accuracy: 0.7500 - val_MatthewsCorrelationCoefficient: 0.7399 - val_macro_f1_score: 0.4581 - val_micro_f1_score: 0.7500\n",
      "Epoch 85/100\n",
      "100/100 [==============================] - 1s 13ms/step - loss: 0.4645 - accuracy: 0.8531 - MatthewsCorrelationCoefficient: 0.8467 - macro_f1_score: 0.5424 - micro_f1_score: 0.8531 - val_loss: 1.3390 - val_accuracy: 0.7563 - val_MatthewsCorrelationCoefficient: 0.7465 - val_macro_f1_score: 0.4709 - val_micro_f1_score: 0.7563\n",
      "Epoch 86/100\n",
      "100/100 [==============================] - 1s 13ms/step - loss: 0.4779 - accuracy: 0.8497 - MatthewsCorrelationCoefficient: 0.8430 - macro_f1_score: 0.5339 - micro_f1_score: 0.8497 - val_loss: 1.2853 - val_accuracy: 0.7563 - val_MatthewsCorrelationCoefficient: 0.7463 - val_macro_f1_score: 0.4707 - val_micro_f1_score: 0.7563\n",
      "Epoch 87/100\n",
      "100/100 [==============================] - 1s 13ms/step - loss: 0.4453 - accuracy: 0.8628 - MatthewsCorrelationCoefficient: 0.8566 - macro_f1_score: 0.5415 - micro_f1_score: 0.8628 - val_loss: 1.3736 - val_accuracy: 0.7437 - val_MatthewsCorrelationCoefficient: 0.7333 - val_macro_f1_score: 0.4569 - val_micro_f1_score: 0.7437\n",
      "Epoch 88/100\n",
      "100/100 [==============================] - 1s 13ms/step - loss: 0.4863 - accuracy: 0.8581 - MatthewsCorrelationCoefficient: 0.8518 - macro_f1_score: 0.5504 - micro_f1_score: 0.8581 - val_loss: 1.3078 - val_accuracy: 0.7698 - val_MatthewsCorrelationCoefficient: 0.7606 - val_macro_f1_score: 0.4984 - val_micro_f1_score: 0.7698\n",
      "Epoch 89/100\n",
      "100/100 [==============================] - 1s 13ms/step - loss: 0.4721 - accuracy: 0.8597 - MatthewsCorrelationCoefficient: 0.8534 - macro_f1_score: 0.5461 - micro_f1_score: 0.8597 - val_loss: 1.3056 - val_accuracy: 0.7646 - val_MatthewsCorrelationCoefficient: 0.7555 - val_macro_f1_score: 0.4713 - val_micro_f1_score: 0.7646\n",
      "Epoch 90/100\n",
      "100/100 [==============================] - 1s 13ms/step - loss: 0.4783 - accuracy: 0.8541 - MatthewsCorrelationCoefficient: 0.8479 - macro_f1_score: 0.5424 - micro_f1_score: 0.8541 - val_loss: 1.3192 - val_accuracy: 0.7563 - val_MatthewsCorrelationCoefficient: 0.7463 - val_macro_f1_score: 0.4583 - val_micro_f1_score: 0.7563\n",
      "Epoch 91/100\n",
      "100/100 [==============================] - 1s 13ms/step - loss: 0.4993 - accuracy: 0.8459 - MatthewsCorrelationCoefficient: 0.8393 - macro_f1_score: 0.5134 - micro_f1_score: 0.8459 - val_loss: 1.3209 - val_accuracy: 0.7573 - val_MatthewsCorrelationCoefficient: 0.7475 - val_macro_f1_score: 0.4636 - val_micro_f1_score: 0.7573\n",
      "Epoch 92/100\n",
      "100/100 [==============================] - 1s 13ms/step - loss: 0.4413 - accuracy: 0.8675 - MatthewsCorrelationCoefficient: 0.8616 - macro_f1_score: 0.5358 - micro_f1_score: 0.8675 - val_loss: 1.3446 - val_accuracy: 0.7521 - val_MatthewsCorrelationCoefficient: 0.7420 - val_macro_f1_score: 0.4601 - val_micro_f1_score: 0.7521\n",
      "Epoch 93/100\n",
      "100/100 [==============================] - 1s 13ms/step - loss: 0.4521 - accuracy: 0.8606 - MatthewsCorrelationCoefficient: 0.8544 - macro_f1_score: 0.5346 - micro_f1_score: 0.8606 - val_loss: 1.3217 - val_accuracy: 0.7583 - val_MatthewsCorrelationCoefficient: 0.7484 - val_macro_f1_score: 0.4582 - val_micro_f1_score: 0.7583\n",
      "Epoch 94/100\n",
      "100/100 [==============================] - 1s 13ms/step - loss: 0.4593 - accuracy: 0.8597 - MatthewsCorrelationCoefficient: 0.8534 - macro_f1_score: 0.5432 - micro_f1_score: 0.8597 - val_loss: 1.3491 - val_accuracy: 0.7510 - val_MatthewsCorrelationCoefficient: 0.7412 - val_macro_f1_score: 0.4676 - val_micro_f1_score: 0.7510\n",
      "Epoch 95/100\n",
      "100/100 [==============================] - 1s 13ms/step - loss: 0.4240 - accuracy: 0.8716 - MatthewsCorrelationCoefficient: 0.8658 - macro_f1_score: 0.5406 - micro_f1_score: 0.8716 - val_loss: 1.3152 - val_accuracy: 0.7594 - val_MatthewsCorrelationCoefficient: 0.7495 - val_macro_f1_score: 0.4812 - val_micro_f1_score: 0.7594\n",
      "Epoch 96/100\n",
      "100/100 [==============================] - 1s 13ms/step - loss: 0.4330 - accuracy: 0.8641 - MatthewsCorrelationCoefficient: 0.8580 - macro_f1_score: 0.5530 - micro_f1_score: 0.8641 - val_loss: 1.3350 - val_accuracy: 0.7490 - val_MatthewsCorrelationCoefficient: 0.7390 - val_macro_f1_score: 0.4602 - val_micro_f1_score: 0.7490\n",
      "Epoch 97/100\n"
     ]
    },
    {
     "name": "stdout",
     "output_type": "stream",
     "text": [
      "100/100 [==============================] - 1s 13ms/step - loss: 0.4610 - accuracy: 0.8622 - MatthewsCorrelationCoefficient: 0.8558 - macro_f1_score: 0.5236 - micro_f1_score: 0.8622 - val_loss: 1.3299 - val_accuracy: 0.7542 - val_MatthewsCorrelationCoefficient: 0.7440 - val_macro_f1_score: 0.4670 - val_micro_f1_score: 0.7542\n",
      "Epoch 98/100\n",
      "100/100 [==============================] - 1s 13ms/step - loss: 0.4531 - accuracy: 0.8616 - MatthewsCorrelationCoefficient: 0.8552 - macro_f1_score: 0.5359 - micro_f1_score: 0.8616 - val_loss: 1.3094 - val_accuracy: 0.7635 - val_MatthewsCorrelationCoefficient: 0.7541 - val_macro_f1_score: 0.4783 - val_micro_f1_score: 0.7635\n",
      "Epoch 99/100\n",
      "100/100 [==============================] - 1s 13ms/step - loss: 0.4386 - accuracy: 0.8625 - MatthewsCorrelationCoefficient: 0.8564 - macro_f1_score: 0.5689 - micro_f1_score: 0.8625 - val_loss: 1.3218 - val_accuracy: 0.7563 - val_MatthewsCorrelationCoefficient: 0.7466 - val_macro_f1_score: 0.4802 - val_micro_f1_score: 0.7563\n",
      "Epoch 100/100\n",
      "100/100 [==============================] - 1s 13ms/step - loss: 0.4671 - accuracy: 0.8522 - MatthewsCorrelationCoefficient: 0.8457 - macro_f1_score: 0.5393 - micro_f1_score: 0.8522 - val_loss: 1.3251 - val_accuracy: 0.7688 - val_MatthewsCorrelationCoefficient: 0.7595 - val_macro_f1_score: 0.4900 - val_micro_f1_score: 0.7688\n"
     ]
    }
   ],
   "source": [
    "history = model.fit(\n",
    "        epochs=100,\n",
    "        x=dataset_v.process_x(dataset.train[\"x\"]),\n",
    "        y=dataset_v.process_y(dataset.train[\"y\"]),\n",
    "        steps_per_epoch=100,\n",
    "        batch_size=32,\n",
    "        shuffle=True,\n",
    "        validation_steps=30,\n",
    "        validation_data = (dataset_v.process_x(dataset.test[\"x\"]),\n",
    "                           dataset_v.process_y(dataset.test[\"y\"]))\n",
    ")"
   ]
  },
  {
   "cell_type": "code",
   "execution_count": 11,
   "metadata": {
    "pycharm": {
     "is_executing": false,
     "name": "#%%\n"
    }
   },
   "outputs": [
    {
     "name": "stdout",
     "text": [
      "1/1 [==============================] - 0s 54ms/step - loss: 65.1980 - accuracy: 0.0000e+00 - MatthewsCorrelationCoefficient: 0.0000e+00 - macro_f1_score: 0.0000e+00 - micro_f1_score: 0.0000e+00\b\b\b\b\b\b\b\b\b\b\b\b\b\b\b\b\b\b\b\b\b\b\b\b\b\b\b\b\b\b\b\b\b\b\b\b\b\b\b\b\b\b\b\b\b\b\b\b\b\b\b\b\b\b\b\b\b\b\b\b\b\b\b\b\b\b\b\b\b\b\b\b\b\b\b\b\b\b\b\b\b\b\b\b\b\b\b\b\b\b\b\b\b\b\b\b\b\b\b\b\b\b\b\b\b\b\b\b\b\b\b\b\b\b\b\b\b\b\b\b\b\b\b\b\b\b\b\b\b\b\b\b\b\b\b\b\b\b\b\b\b\b\b\b\b\b\b\b\b\b\b\b\b\b\b\b\b\b\b\b\b\b\b\b\b\b\b\b\b\b\b\b\b\b\b\b\b\b\b\b\b\b\b\n"
     ],
     "output_type": "stream"
    },
    {
     "data": {
      "text/plain": "{'loss': 65.19803619384766,\n 'accuracy': 0.0,\n 'MatthewsCorrelationCoefficient': 0.0,\n 'macro_f1_score': 0.0,\n 'micro_f1_score': 0.0}"
     },
     "metadata": {},
     "output_type": "execute_result",
     "execution_count": 11
    }
   ],
   "source": [
    "model.evaluate(\n",
    "    x=dataset_v.process_x(dataset.validation[\"x\"][0:5]),\n",
    "    y=dataset_v.process_y(dataset.validation[\"y\"][0:5]),\n",
    "    return_dict=True\n",
    ")"
   ]
  },
  {
   "cell_type": "code",
   "execution_count": 21,
   "metadata": {
    "pycharm": {
     "is_executing": false,
     "name": "#%%\n"
    }
   },
   "outputs": [],
   "source": [
    "model_template = ShakespeareModelTemplate(DEFAULT_SEED)\n",
    "model = model_template.get_model()\n",
    "dataset_v = ShakespeareClientDataset(str(data_dir), \"1\")"
   ]
  },
  {
   "cell_type": "code",
   "execution_count": 22,
   "metadata": {
    "pycharm": {
     "is_executing": false,
     "name": "#%%\n"
    }
   },
   "outputs": [],
   "source": [
    "dataset = get_full_iid_dataset(\"shakespeare\")"
   ]
  },
  {
   "cell_type": "code",
   "execution_count": 23,
   "metadata": {
    "pycharm": {
     "is_executing": false,
     "name": "#%%\n"
    }
   },
   "outputs": [],
   "source": [
    "model = model_template.get_model()\n",
    "optimizer = model_template.get_optimizer(0.01)\n",
    "loss = model_template.get_loss()"
   ]
  },
  {
   "cell_type": "code",
   "execution_count": 24,
   "metadata": {
    "pycharm": {
     "is_executing": false,
     "name": "#%%\n"
    }
   },
   "outputs": [],
   "source": [
    "model.compile(optimizer=optimizer,\n",
    "              loss=loss,\n",
    "              metrics=[\"accuracy\", \n",
    "                       tfa.metrics.MatthewsCorrelationCoefficient(model_template.num_classes), \n",
    "                       tfa.metrics.F1Score(model_template.num_classes, \n",
    "                                           name=\"macro_f1_score\", average='macro'),\n",
    "                        tfa.metrics.F1Score(model_template.num_classes, \n",
    "                                            name=\"micro_f1_score\", average='micro')])"
   ]
  },
  {
   "cell_type": "code",
   "execution_count": null,
   "metadata": {
    "pycharm": {
     "is_executing": false,
     "name": "#%%\n"
    }
   },
   "outputs": [],
   "source": [
    "history = model.fit(\n",
    "    epochs=100,\n",
    "        x=dataset_v.process_x(dataset.train[\"x\"]),\n",
    "          y=dataset_v.process_y(dataset.train[\"y\"]),\n",
    "    steps_per_epoch=100,\n",
    "        batch_size=32,\n",
    "        shuffle=True,\n",
    "        validation_steps=15,\n",
    ")"
   ]
  },
  {
   "cell_type": "code",
   "execution_count": 14,
   "metadata": {
    "pycharm": {
     "is_executing": false,
     "name": "#%%\n"
    }
   },
   "outputs": [],
   "source": [
    "import pickle as pkl\n",
    "\n",
    "path = Path(\"I:\\Projects\\impact_of_non_iid_data_in_federated_learning\\checkpoints\"\n",
    "            \"\\CentralisedEvaluationFemnist1\\FedAvg_SGD_lr0.01_nr5_nc600_le1_i0\\FedAvg_SGD_lr0.01_nr5_nc600_le1_i0_run_0\\metrics\\centralised_evaluation_metrics_CentralisedEvaluationFemnist1_5.pkl\")\n",
    "with path.open(\"rb\") as f:\n",
    "    data=pkl.load(f)\n",
    "    "
   ]
  },
  {
   "cell_type": "code",
   "execution_count": 15,
   "outputs": [
    {
     "data": {
      "text/plain": "{'loss': 68.79035949707031,\n 'accuracy': 0.01862373761832714,\n 'MatthewsCorrelationCoefficient': 0.004405854735523462,\n 'macro_f1_score': 0.001531881163828075,\n 'micro_f1_score': 0.01862373761832714}"
     },
     "metadata": {},
     "output_type": "execute_result",
     "execution_count": 15
    }
   ],
   "source": [
    "data\n",
    "\n"
   ],
   "metadata": {
    "collapsed": false,
    "pycharm": {
     "name": "#%%\n",
     "is_executing": false
    }
   }
  }
 ],
 "metadata": {
  "kernelspec": {
   "display_name": "Python 3 (ipykernel)",
   "language": "python",
   "name": "python3"
  },
  "language_info": {
   "codemirror_mode": {
    "name": "ipython",
    "version": 3
   },
   "file_extension": ".py",
   "mimetype": "text/x-python",
   "name": "python",
   "nbconvert_exporter": "python",
   "pygments_lexer": "ipython3",
   "version": "3.9.9"
  },
  "pycharm": {
   "stem_cell": {
    "cell_type": "raw",
    "source": [],
    "metadata": {
     "collapsed": false
    }
   }
  }
 },
 "nbformat": 4,
 "nbformat_minor": 1
}