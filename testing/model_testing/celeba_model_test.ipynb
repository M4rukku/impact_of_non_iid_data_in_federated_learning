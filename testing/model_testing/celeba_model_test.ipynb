{
 "cells": [
  {
   "cell_type": "markdown",
   "metadata": {
    "collapsed": true,
    "pycharm": {
     "name": "#%% md\n"
    }
   },
   "source": [
    "# Celeba Model Testing\n",
    "\n",
    "Goals:\n",
    "- Load Data from data folder\n",
    "- Process Data for model\n",
    "- Run Training for some Generations\n",
    "\n",
    "## Load Data"
   ]
  },
  {
   "cell_type": "code",
   "execution_count": 10,
   "metadata": {
    "pycharm": {
     "name": "#%%\n",
     "is_executing": false
    }
   },
   "outputs": [
    {
     "name": "stdout",
     "text": [
      "The autoreload extension is already loaded. To reload it, use:\n",
      "  %reload_ext autoreload\n"
     ],
     "output_type": "stream"
    }
   ],
   "source": [
    "from pathlib import Path\n",
    "import os\n",
    "import numpy\n",
    "from sources.datasets.celeba.celeba_client_dataset import CelebaClientDataset\n",
    "%load_ext autoreload\n",
    "%autoreload 2"
   ]
  },
  {
   "cell_type": "code",
   "execution_count": 2,
   "metadata": {
    "pycharm": {
     "name": "#%%\n",
     "is_executing": false
    }
   },
   "outputs": [],
   "source": [
    "base_directory = Path(os.getcwd()).parent.parent / \"data\"\n",
    "celeba_dataset = CelebaClientDataset(base_directory, \"0\")"
   ]
  },
  {
   "cell_type": "code",
   "execution_count": 11,
   "outputs": [
    {
     "name": "stdout",
     "text": [
      "[1 1 0 0 1 0]\n"
     ],
     "output_type": "stream"
    }
   ],
   "source": [
    "with celeba_dataset:\n",
    "    print(numpy.array(list(map(int, celeba_dataset.test_data_y))))\n",
    "    "
   ],
   "metadata": {
    "collapsed": false,
    "pycharm": {
     "name": "#%%\n",
     "is_executing": false
    }
   }
  },
  {
   "cell_type": "code",
   "execution_count": 8,
   "outputs": [
    {
     "data": {
      "text/plain": "array([[[ 96, 103,  95],\n        [ 96, 103,  96],\n        [ 97, 104,  96],\n        ...,\n        [ 54,  67,  58],\n        [ 52,  65,  55],\n        [ 52,  62,  53]],\n\n       [[ 87,  94,  83],\n        [ 88,  95,  84],\n        [ 88,  96,  84],\n        ...,\n        [ 54,  67,  57],\n        [ 51,  64,  54],\n        [ 53,  63,  54]],\n\n       [[ 80,  88,  72],\n        [ 80,  89,  73],\n        [ 81,  90,  74],\n        ...,\n        [ 53,  66,  56],\n        [ 50,  63,  53],\n        [ 53,  64,  55]],\n\n       ...,\n\n       [[181, 103,  97],\n        [206, 149, 149],\n        [252, 225, 229],\n        ...,\n        [144, 146, 153],\n        [185, 186, 193],\n        [ 88,  87,  93]],\n\n       [[183, 128, 118],\n        [247, 212, 208],\n        [247, 235, 236],\n        ...,\n        [140, 136, 145],\n        [166, 158, 171],\n        [138, 136, 143]],\n\n       [[227, 191, 178],\n        [248, 227, 222],\n        [240, 239, 239],\n        ...,\n        [190, 183, 194],\n        [131, 121, 138],\n        [ 84,  82,  89]]], dtype=uint8)"
     },
     "metadata": {},
     "output_type": "execute_result",
     "execution_count": 8
    }
   ],
   "source": [
    "with celeba_dataset:\n",
    "    img = celeba_dataset.test_data_x[0]"
   ],
   "metadata": {
    "collapsed": false,
    "pycharm": {
     "name": "#%%\n",
     "is_executing": false
    }
   }
  },
  {
   "cell_type": "markdown",
   "metadata": {},
   "source": [
    "## Create Model"
   ]
  },
  {
   "cell_type": "code",
   "execution_count": 15,
   "metadata": {
    "pycharm": {
     "name": "#%%\n"
    }
   },
   "outputs": [
    {
     "name": "stdout",
     "output_type": "stream",
     "text": [
      "(None, 6, 6, 32)\n"
     ]
    }
   ],
   "source": [
    "from sources.models.celeba.celeba_model_template import CelebaModelTemplate\n",
    "\n",
    "client_model = CelebaModelTemplate(0.1)\n",
    "model = client_model.get_model()"
   ]
  },
  {
   "cell_type": "code",
   "execution_count": 16,
   "metadata": {
    "pycharm": {
     "name": "#%%\n"
    },
    "scrolled": true
   },
   "outputs": [
    {
     "name": "stdout",
     "output_type": "stream",
     "text": [
      "Model: \"sequential_1\"\n",
      "_________________________________________________________________\n",
      " Layer (type)                Output Shape              Param #   \n",
      "=================================================================\n",
      " conv2d_4 (Conv2D)           (None, 84, 84, 32)        896       \n",
      "                                                                 \n",
      " batch_normalization_4 (Batc  (None, 84, 84, 32)       128       \n",
      " hNormalization)                                                 \n",
      "                                                                 \n",
      " max_pooling2d_4 (MaxPooling  (None, 42, 42, 32)       0         \n",
      " 2D)                                                             \n",
      "                                                                 \n",
      " re_lu_4 (ReLU)              (None, 42, 42, 32)        0         \n",
      "                                                                 \n",
      " conv2d_5 (Conv2D)           (None, 42, 42, 32)        9248      \n",
      "                                                                 \n",
      " batch_normalization_5 (Batc  (None, 42, 42, 32)       128       \n",
      " hNormalization)                                                 \n",
      "                                                                 \n",
      " max_pooling2d_5 (MaxPooling  (None, 21, 21, 32)       0         \n",
      " 2D)                                                             \n",
      "                                                                 \n",
      " re_lu_5 (ReLU)              (None, 21, 21, 32)        0         \n",
      "                                                                 \n",
      " conv2d_6 (Conv2D)           (None, 21, 21, 32)        9248      \n",
      "                                                                 \n",
      " batch_normalization_6 (Batc  (None, 21, 21, 32)       128       \n",
      " hNormalization)                                                 \n",
      "                                                                 \n",
      " max_pooling2d_6 (MaxPooling  (None, 11, 11, 32)       0         \n",
      " 2D)                                                             \n",
      "                                                                 \n",
      " re_lu_6 (ReLU)              (None, 11, 11, 32)        0         \n",
      "                                                                 \n",
      " conv2d_7 (Conv2D)           (None, 11, 11, 32)        9248      \n",
      "                                                                 \n",
      " batch_normalization_7 (Batc  (None, 11, 11, 32)       128       \n",
      " hNormalization)                                                 \n",
      "                                                                 \n",
      " max_pooling2d_7 (MaxPooling  (None, 6, 6, 32)         0         \n",
      " 2D)                                                             \n",
      "                                                                 \n",
      " re_lu_7 (ReLU)              (None, 6, 6, 32)          0         \n",
      "                                                                 \n",
      " flatten_1 (Flatten)         (None, 1152)              0         \n",
      "                                                                 \n",
      " dense_1 (Dense)             (None, 2)                 2306      \n",
      "                                                                 \n",
      " softmax_1 (Softmax)         (None, 2)                 0         \n",
      "                                                                 \n",
      "=================================================================\n",
      "Total params: 31,458\n",
      "Trainable params: 31,202\n",
      "Non-trainable params: 256\n",
      "_________________________________________________________________\n"
     ]
    }
   ],
   "source": [
    "model.summary()"
   ]
  },
  {
   "cell_type": "markdown",
   "metadata": {},
   "source": [
    "## Process Data, Compile Model and Fit"
   ]
  },
  {
   "cell_type": "code",
   "execution_count": 3,
   "metadata": {
    "pycharm": {
     "is_executing": false
    }
   },
   "outputs": [
    {
     "traceback": [
      "\u001b[1;31m---------------------------------------------------------------------------\u001b[0m",
      "\u001b[1;31mNameError\u001b[0m                                 Traceback (most recent call last)",
      "\u001b[1;32m~\\AppData\\Local\\Temp/ipykernel_19908/3783653244.py\u001b[0m in \u001b[0;36m<module>\u001b[1;34m\u001b[0m\n\u001b[1;32m----> 1\u001b[1;33m model.compile(optimizer=client_model.get_optimizer(),\n\u001b[0m\u001b[0;32m      2\u001b[0m              \u001b[0mloss\u001b[0m\u001b[1;33m=\u001b[0m\u001b[0mclient_model\u001b[0m\u001b[1;33m.\u001b[0m\u001b[0mget_loss\u001b[0m\u001b[1;33m(\u001b[0m\u001b[1;33m)\u001b[0m\u001b[1;33m,\u001b[0m\u001b[1;33m\u001b[0m\u001b[1;33m\u001b[0m\u001b[0m\n\u001b[0;32m      3\u001b[0m              metrics=['accuracy', \"mse\"])\n\u001b[0;32m      4\u001b[0m \u001b[1;33m\u001b[0m\u001b[0m\n",
      "\u001b[1;31mNameError\u001b[0m: name 'model' is not defined"
     ],
     "ename": "NameError",
     "evalue": "name 'model' is not defined",
     "output_type": "error"
    }
   ],
   "source": [
    "model.compile(optimizer=client_model.get_optimizer(),\n",
    "             loss=client_model.get_loss(),\n",
    "             metrics=['accuracy', \"mse\"])"
   ]
  },
  {
   "cell_type": "code",
   "execution_count": 4,
   "metadata": {
    "scrolled": true,
    "pycharm": {
     "is_executing": false
    }
   },
   "outputs": [
    {
     "traceback": [
      "\u001b[1;31m---------------------------------------------------------------------------\u001b[0m",
      "\u001b[1;31mNameError\u001b[0m                                 Traceback (most recent call last)",
      "\u001b[1;32m~\\AppData\\Local\\Temp/ipykernel_19908/734308542.py\u001b[0m in \u001b[0;36m<module>\u001b[1;34m\u001b[0m\n\u001b[1;32m----> 1\u001b[1;33m model.fit(*celeba_dataset.test_data,\n\u001b[0m\u001b[0;32m      2\u001b[0m           \u001b[0mvalidation_data\u001b[0m\u001b[1;33m=\u001b[0m\u001b[0mceleba_dataset\u001b[0m\u001b[1;33m.\u001b[0m\u001b[0mtest_data\u001b[0m\u001b[1;33m,\u001b[0m\u001b[1;33m\u001b[0m\u001b[1;33m\u001b[0m\u001b[0m\n\u001b[0;32m      3\u001b[0m           epochs=10)\n\u001b[0;32m      4\u001b[0m \u001b[1;33m\u001b[0m\u001b[0m\n",
      "\u001b[1;31mNameError\u001b[0m: name 'model' is not defined"
     ],
     "ename": "NameError",
     "evalue": "name 'model' is not defined",
     "output_type": "error"
    }
   ],
   "source": [
    "model.fit(*celeba_dataset.test_data,\n",
    "          validation_data=celeba_dataset.test_data,\n",
    "          epochs=10)"
   ]
  },
  {
   "cell_type": "code",
   "execution_count": 19,
   "metadata": {},
   "outputs": [
    {
     "name": "stdout",
     "output_type": "stream",
     "text": [
      "1/1 [==============================] - 0s 19ms/step - loss: 0.6956 - accuracy: 0.6667 - mse: 0.3335\n"
     ]
    },
    {
     "data": {
      "text/plain": [
       "[0.6955581307411194, 0.6666666865348816, 0.3334653377532959]"
      ]
     },
     "execution_count": 19,
     "metadata": {},
     "output_type": "execute_result"
    }
   ],
   "source": [
    "model.evaluate(*celeba_dataset.validation_data)"
   ]
  }
 ],
 "metadata": {
  "kernelspec": {
   "display_name": "Python 3 (ipykernel)",
   "language": "python",
   "name": "python3"
  },
  "language_info": {
   "codemirror_mode": {
    "name": "ipython",
    "version": 3
   },
   "file_extension": ".py",
   "mimetype": "text/x-python",
   "name": "python",
   "nbconvert_exporter": "python",
   "pygments_lexer": "ipython3",
   "version": "3.9.9"
  },
  "pycharm": {
   "stem_cell": {
    "cell_type": "raw",
    "source": [],
    "metadata": {
     "collapsed": false
    }
   }
  }
 },
 "nbformat": 4,
 "nbformat_minor": 1
}