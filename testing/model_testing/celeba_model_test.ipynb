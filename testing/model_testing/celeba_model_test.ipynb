{
 "cells": [
  {
   "cell_type": "markdown",
   "metadata": {
    "collapsed": true,
    "pycharm": {
     "name": "#%% md\n"
    }
   },
   "source": [
    "# Celeba Model Testing\n",
    "\n",
    "Goals:\n",
    "- Load Data from data folder\n",
    "- Process Data for model\n",
    "- Run Training for some Generations\n",
    "\n",
    "## Load Data"
   ]
  },
  {
   "cell_type": "code",
   "execution_count": 1,
   "metadata": {
    "pycharm": {
     "name": "#%%\n"
    }
   },
   "outputs": [],
   "source": [
    "from pathlib import Path\n",
    "import os\n",
    "import pickle\n",
    "import pandas as pd\n",
    "%load_ext autoreload\n",
    "%autoreload 2"
   ]
  },
  {
   "cell_type": "code",
   "execution_count": 2,
   "metadata": {
    "pycharm": {
     "name": "#%%\n"
    }
   },
   "outputs": [],
   "source": [
    "base_directory = Path(os.getcwd()).parent.parent\n",
    "celeba_data_root_directory = base_directory / \"data\" / \"celeba\"\n",
    "\n",
    "sample = 0\n",
    "celeba_data_sample_directory = celeba_data_root_directory / f\"{sample}\"\n",
    "\n",
    "celeba_sample_test_file = celeba_data_sample_directory / \"test.pickle\"\n",
    "celeba_sample_train_file = celeba_data_sample_directory / \"train.pickle\"\n",
    "celeba_sample_validation_file = celeba_data_sample_directory / \"val.pickle\""
   ]
  },
  {
   "cell_type": "code",
   "execution_count": 3,
   "metadata": {
    "pycharm": {
     "name": "#%%\n"
    }
   },
   "outputs": [],
   "source": [
    "celeba_sample_train_data = pd.read_pickle(celeba_sample_train_file)\n",
    "celeba_sample_test_data = pd.read_pickle(celeba_sample_test_file)\n",
    "celeba_sample_validation_data = pd.read_pickle(celeba_sample_validation_file)"
   ]
  },
  {
   "cell_type": "markdown",
   "metadata": {},
   "source": [
    "## Create Model"
   ]
  },
  {
   "cell_type": "code",
   "execution_count": 65,
   "metadata": {
    "pycharm": {
     "name": "#%%\n"
    }
   },
   "outputs": [
    {
     "name": "stdout",
     "output_type": "stream",
     "text": [
      "(None, 6, 6, 32)\n"
     ]
    }
   ],
   "source": [
    "from sources.models.celeba.celeba_client_model import CelebaClientModel\n",
    "\n",
    "client_model = CelebaClientModel(0.1)\n",
    "model = client_model.get_model()"
   ]
  },
  {
   "cell_type": "code",
   "execution_count": 66,
   "metadata": {
    "pycharm": {
     "name": "#%%\n"
    },
    "scrolled": true
   },
   "outputs": [
    {
     "name": "stdout",
     "output_type": "stream",
     "text": [
      "Model: \"sequential_12\"\n",
      "_________________________________________________________________\n",
      " Layer (type)                Output Shape              Param #   \n",
      "=================================================================\n",
      " conv2d_33 (Conv2D)          (None, 84, 84, 32)        896       \n",
      "                                                                 \n",
      " batch_normalization_33 (Bat  (None, 84, 84, 32)       128       \n",
      " chNormalization)                                                \n",
      "                                                                 \n",
      " max_pooling2d_33 (MaxPoolin  (None, 42, 42, 32)       0         \n",
      " g2D)                                                            \n",
      "                                                                 \n",
      " re_lu_28 (ReLU)             (None, 42, 42, 32)        0         \n",
      "                                                                 \n",
      " conv2d_34 (Conv2D)          (None, 42, 42, 32)        9248      \n",
      "                                                                 \n",
      " batch_normalization_34 (Bat  (None, 42, 42, 32)       128       \n",
      " chNormalization)                                                \n",
      "                                                                 \n",
      " max_pooling2d_34 (MaxPoolin  (None, 21, 21, 32)       0         \n",
      " g2D)                                                            \n",
      "                                                                 \n",
      " re_lu_29 (ReLU)             (None, 21, 21, 32)        0         \n",
      "                                                                 \n",
      " conv2d_35 (Conv2D)          (None, 21, 21, 32)        9248      \n",
      "                                                                 \n",
      " batch_normalization_35 (Bat  (None, 21, 21, 32)       128       \n",
      " chNormalization)                                                \n",
      "                                                                 \n",
      " max_pooling2d_35 (MaxPoolin  (None, 11, 11, 32)       0         \n",
      " g2D)                                                            \n",
      "                                                                 \n",
      " re_lu_30 (ReLU)             (None, 11, 11, 32)        0         \n",
      "                                                                 \n",
      " conv2d_36 (Conv2D)          (None, 11, 11, 32)        9248      \n",
      "                                                                 \n",
      " batch_normalization_36 (Bat  (None, 11, 11, 32)       128       \n",
      " chNormalization)                                                \n",
      "                                                                 \n",
      " max_pooling2d_36 (MaxPoolin  (None, 6, 6, 32)         0         \n",
      " g2D)                                                            \n",
      "                                                                 \n",
      " re_lu_31 (ReLU)             (None, 6, 6, 32)          0         \n",
      "                                                                 \n",
      " flatten_3 (Flatten)         (None, 1152)              0         \n",
      "                                                                 \n",
      " dense_5 (Dense)             (None, 2)                 2306      \n",
      "                                                                 \n",
      " softmax_5 (Softmax)         (None, 2)                 0         \n",
      "                                                                 \n",
      "=================================================================\n",
      "Total params: 31,458\n",
      "Trainable params: 31,202\n",
      "Non-trainable params: 256\n",
      "_________________________________________________________________\n"
     ]
    }
   ],
   "source": [
    "model.summary()"
   ]
  },
  {
   "cell_type": "markdown",
   "metadata": {},
   "source": [
    "## Process Data, Compile Model and Fit"
   ]
  },
  {
   "cell_type": "code",
   "execution_count": 69,
   "metadata": {},
   "outputs": [],
   "source": [
    "model.compile(optimizer=client_model.get_default_optimizer(),\n",
    "             loss=client_model.get_default_loss_function(),\n",
    "             metrics=['accuracy', \"mse\"])"
   ]
  },
  {
   "cell_type": "code",
   "execution_count": 74,
   "metadata": {
    "scrolled": true
   },
   "outputs": [
    {
     "name": "stdout",
     "output_type": "stream",
     "text": [
      "Epoch 1/100\n",
      "1/1 [==============================] - 0s 112ms/step - loss: 0.0163 - accuracy: 1.0000 - mse: 0.4842 - val_loss: 1.2868 - val_accuracy: 0.1667 - val_mse: 0.3065\n",
      "Epoch 2/100\n",
      "1/1 [==============================] - 0s 87ms/step - loss: 0.0156 - accuracy: 1.0000 - mse: 0.4848 - val_loss: 1.2710 - val_accuracy: 0.1667 - val_mse: 0.3050\n",
      "Epoch 3/100\n",
      "1/1 [==============================] - 0s 87ms/step - loss: 0.0150 - accuracy: 1.0000 - mse: 0.4854 - val_loss: 1.2574 - val_accuracy: 0.1667 - val_mse: 0.3037\n",
      "Epoch 4/100\n",
      "1/1 [==============================] - 0s 91ms/step - loss: 0.0144 - accuracy: 1.0000 - mse: 0.4860 - val_loss: 1.2415 - val_accuracy: 0.1667 - val_mse: 0.3021\n",
      "Epoch 5/100\n",
      "1/1 [==============================] - 0s 92ms/step - loss: 0.0139 - accuracy: 1.0000 - mse: 0.4865 - val_loss: 1.2291 - val_accuracy: 0.1667 - val_mse: 0.3008\n",
      "Epoch 6/100\n",
      "1/1 [==============================] - 0s 97ms/step - loss: 0.0134 - accuracy: 1.0000 - mse: 0.4869 - val_loss: 1.2167 - val_accuracy: 0.1667 - val_mse: 0.2996\n",
      "Epoch 7/100\n",
      "1/1 [==============================] - 0s 109ms/step - loss: 0.0130 - accuracy: 1.0000 - mse: 0.4874 - val_loss: 1.2023 - val_accuracy: 0.1667 - val_mse: 0.2982\n",
      "Epoch 8/100\n",
      "1/1 [==============================] - 0s 91ms/step - loss: 0.0125 - accuracy: 1.0000 - mse: 0.4878 - val_loss: 1.1898 - val_accuracy: 0.1667 - val_mse: 0.2970\n",
      "Epoch 9/100\n",
      "1/1 [==============================] - 0s 94ms/step - loss: 0.0121 - accuracy: 1.0000 - mse: 0.4882 - val_loss: 1.1752 - val_accuracy: 0.1667 - val_mse: 0.2955\n",
      "Epoch 10/100\n",
      "1/1 [==============================] - 0s 101ms/step - loss: 0.0117 - accuracy: 1.0000 - mse: 0.4885 - val_loss: 1.1618 - val_accuracy: 0.1667 - val_mse: 0.2941\n",
      "Epoch 11/100\n",
      "1/1 [==============================] - 0s 99ms/step - loss: 0.0114 - accuracy: 1.0000 - mse: 0.4889 - val_loss: 1.1490 - val_accuracy: 0.1667 - val_mse: 0.2928\n",
      "Epoch 12/100\n",
      "1/1 [==============================] - 0s 104ms/step - loss: 0.0110 - accuracy: 1.0000 - mse: 0.4892 - val_loss: 1.1366 - val_accuracy: 0.1667 - val_mse: 0.2915\n",
      "Epoch 13/100\n",
      "1/1 [==============================] - 0s 94ms/step - loss: 0.0107 - accuracy: 1.0000 - mse: 0.4895 - val_loss: 1.1258 - val_accuracy: 0.1667 - val_mse: 0.2903\n",
      "Epoch 14/100\n",
      "1/1 [==============================] - 0s 99ms/step - loss: 0.0104 - accuracy: 1.0000 - mse: 0.4898 - val_loss: 1.1161 - val_accuracy: 0.1667 - val_mse: 0.2893\n",
      "Epoch 15/100\n",
      "1/1 [==============================] - 0s 101ms/step - loss: 0.0101 - accuracy: 1.0000 - mse: 0.4901 - val_loss: 1.1069 - val_accuracy: 0.1667 - val_mse: 0.2884\n",
      "Epoch 16/100\n",
      "1/1 [==============================] - 0s 96ms/step - loss: 0.0099 - accuracy: 1.0000 - mse: 0.4903 - val_loss: 1.0989 - val_accuracy: 0.1667 - val_mse: 0.2877\n",
      "Epoch 17/100\n",
      "1/1 [==============================] - 0s 107ms/step - loss: 0.0096 - accuracy: 1.0000 - mse: 0.4906 - val_loss: 1.0923 - val_accuracy: 0.1667 - val_mse: 0.2870\n",
      "Epoch 18/100\n",
      "1/1 [==============================] - 0s 101ms/step - loss: 0.0094 - accuracy: 1.0000 - mse: 0.4908 - val_loss: 1.0839 - val_accuracy: 0.1667 - val_mse: 0.2861\n",
      "Epoch 19/100\n",
      "1/1 [==============================] - 0s 107ms/step - loss: 0.0092 - accuracy: 1.0000 - mse: 0.4910 - val_loss: 1.0767 - val_accuracy: 0.1667 - val_mse: 0.2852\n",
      "Epoch 20/100\n",
      "1/1 [==============================] - 0s 96ms/step - loss: 0.0089 - accuracy: 1.0000 - mse: 0.4912 - val_loss: 1.0694 - val_accuracy: 0.1667 - val_mse: 0.2843\n",
      "Epoch 21/100\n",
      "1/1 [==============================] - 0s 90ms/step - loss: 0.0087 - accuracy: 1.0000 - mse: 0.4914 - val_loss: 1.0621 - val_accuracy: 0.1667 - val_mse: 0.2835\n",
      "Epoch 22/100\n",
      "1/1 [==============================] - 0s 102ms/step - loss: 0.0085 - accuracy: 1.0000 - mse: 0.4916 - val_loss: 1.0553 - val_accuracy: 0.1667 - val_mse: 0.2828\n",
      "Epoch 23/100\n",
      "1/1 [==============================] - 0s 99ms/step - loss: 0.0084 - accuracy: 1.0000 - mse: 0.4918 - val_loss: 1.0487 - val_accuracy: 0.1667 - val_mse: 0.2822\n",
      "Epoch 24/100\n",
      "1/1 [==============================] - 0s 95ms/step - loss: 0.0082 - accuracy: 1.0000 - mse: 0.4919 - val_loss: 1.0438 - val_accuracy: 0.1667 - val_mse: 0.2816\n",
      "Epoch 25/100\n",
      "1/1 [==============================] - 0s 93ms/step - loss: 0.0080 - accuracy: 1.0000 - mse: 0.4921 - val_loss: 1.0379 - val_accuracy: 0.1667 - val_mse: 0.2810\n",
      "Epoch 26/100\n",
      "1/1 [==============================] - 0s 92ms/step - loss: 0.0079 - accuracy: 1.0000 - mse: 0.4923 - val_loss: 1.0323 - val_accuracy: 0.1667 - val_mse: 0.2804\n",
      "Epoch 27/100\n",
      "1/1 [==============================] - 0s 98ms/step - loss: 0.0077 - accuracy: 1.0000 - mse: 0.4924 - val_loss: 1.0268 - val_accuracy: 0.1667 - val_mse: 0.2798\n",
      "Epoch 28/100\n",
      "1/1 [==============================] - 0s 91ms/step - loss: 0.0075 - accuracy: 1.0000 - mse: 0.4926 - val_loss: 1.0215 - val_accuracy: 0.1667 - val_mse: 0.2792\n",
      "Epoch 29/100\n",
      "1/1 [==============================] - 0s 96ms/step - loss: 0.0074 - accuracy: 1.0000 - mse: 0.4927 - val_loss: 1.0162 - val_accuracy: 0.1667 - val_mse: 0.2787\n",
      "Epoch 30/100\n",
      "1/1 [==============================] - 0s 103ms/step - loss: 0.0073 - accuracy: 1.0000 - mse: 0.4928 - val_loss: 1.0111 - val_accuracy: 0.1667 - val_mse: 0.2782\n",
      "Epoch 31/100\n",
      "1/1 [==============================] - 0s 98ms/step - loss: 0.0071 - accuracy: 1.0000 - mse: 0.4930 - val_loss: 1.0036 - val_accuracy: 0.1667 - val_mse: 0.2775\n",
      "Epoch 32/100\n",
      "1/1 [==============================] - 0s 95ms/step - loss: 0.0070 - accuracy: 1.0000 - mse: 0.4931 - val_loss: 0.9968 - val_accuracy: 0.1667 - val_mse: 0.2770\n",
      "Epoch 33/100\n",
      "1/1 [==============================] - 0s 97ms/step - loss: 0.0069 - accuracy: 1.0000 - mse: 0.4932 - val_loss: 0.9899 - val_accuracy: 0.1667 - val_mse: 0.2764\n",
      "Epoch 34/100\n",
      "1/1 [==============================] - 0s 104ms/step - loss: 0.0068 - accuracy: 1.0000 - mse: 0.4933 - val_loss: 0.9825 - val_accuracy: 0.1667 - val_mse: 0.2758\n",
      "Epoch 35/100\n",
      "1/1 [==============================] - 0s 96ms/step - loss: 0.0067 - accuracy: 1.0000 - mse: 0.4934 - val_loss: 0.9744 - val_accuracy: 0.3333 - val_mse: 0.2752\n",
      "Epoch 36/100\n",
      "1/1 [==============================] - 0s 98ms/step - loss: 0.0065 - accuracy: 1.0000 - mse: 0.4935 - val_loss: 0.9670 - val_accuracy: 0.3333 - val_mse: 0.2746\n",
      "Epoch 37/100\n",
      "1/1 [==============================] - 0s 104ms/step - loss: 0.0064 - accuracy: 1.0000 - mse: 0.4936 - val_loss: 0.9577 - val_accuracy: 0.3333 - val_mse: 0.2739\n",
      "Epoch 38/100\n",
      "1/1 [==============================] - 0s 95ms/step - loss: 0.0063 - accuracy: 1.0000 - mse: 0.4937 - val_loss: 0.9503 - val_accuracy: 0.3333 - val_mse: 0.2734\n",
      "Epoch 39/100\n",
      "1/1 [==============================] - 0s 98ms/step - loss: 0.0062 - accuracy: 1.0000 - mse: 0.4938 - val_loss: 0.9421 - val_accuracy: 0.3333 - val_mse: 0.2728\n",
      "Epoch 40/100\n",
      "1/1 [==============================] - 0s 94ms/step - loss: 0.0061 - accuracy: 1.0000 - mse: 0.4939 - val_loss: 0.9348 - val_accuracy: 0.3333 - val_mse: 0.2723\n",
      "Epoch 41/100\n",
      "1/1 [==============================] - 0s 100ms/step - loss: 0.0060 - accuracy: 1.0000 - mse: 0.4940 - val_loss: 0.9269 - val_accuracy: 0.3333 - val_mse: 0.2718\n",
      "Epoch 42/100\n",
      "1/1 [==============================] - 0s 92ms/step - loss: 0.0060 - accuracy: 1.0000 - mse: 0.4941 - val_loss: 0.9203 - val_accuracy: 0.3333 - val_mse: 0.2714\n",
      "Epoch 43/100\n",
      "1/1 [==============================] - 0s 94ms/step - loss: 0.0059 - accuracy: 1.0000 - mse: 0.4942 - val_loss: 0.9135 - val_accuracy: 0.3333 - val_mse: 0.2711\n",
      "Epoch 44/100\n",
      "1/1 [==============================] - 0s 97ms/step - loss: 0.0058 - accuracy: 1.0000 - mse: 0.4943 - val_loss: 0.9079 - val_accuracy: 0.3333 - val_mse: 0.2707\n",
      "Epoch 45/100\n",
      "1/1 [==============================] - 0s 95ms/step - loss: 0.0057 - accuracy: 1.0000 - mse: 0.4944 - val_loss: 0.9019 - val_accuracy: 0.3333 - val_mse: 0.2703\n",
      "Epoch 46/100\n",
      "1/1 [==============================] - 0s 93ms/step - loss: 0.0056 - accuracy: 1.0000 - mse: 0.4944 - val_loss: 0.8982 - val_accuracy: 0.3333 - val_mse: 0.2701\n",
      "Epoch 47/100\n",
      "1/1 [==============================] - 0s 92ms/step - loss: 0.0055 - accuracy: 1.0000 - mse: 0.4945 - val_loss: 0.8939 - val_accuracy: 0.3333 - val_mse: 0.2698\n",
      "Epoch 48/100\n"
     ]
    },
    {
     "name": "stdout",
     "output_type": "stream",
     "text": [
      "1/1 [==============================] - 0s 97ms/step - loss: 0.0055 - accuracy: 1.0000 - mse: 0.4946 - val_loss: 0.8910 - val_accuracy: 0.3333 - val_mse: 0.2696\n",
      "Epoch 49/100\n",
      "1/1 [==============================] - 0s 95ms/step - loss: 0.0054 - accuracy: 1.0000 - mse: 0.4947 - val_loss: 0.8886 - val_accuracy: 0.3333 - val_mse: 0.2695\n",
      "Epoch 50/100\n",
      "1/1 [==============================] - 0s 93ms/step - loss: 0.0053 - accuracy: 1.0000 - mse: 0.4947 - val_loss: 0.8863 - val_accuracy: 0.3333 - val_mse: 0.2694\n",
      "Epoch 51/100\n",
      "1/1 [==============================] - 0s 97ms/step - loss: 0.0053 - accuracy: 1.0000 - mse: 0.4948 - val_loss: 0.8855 - val_accuracy: 0.3333 - val_mse: 0.2693\n",
      "Epoch 52/100\n",
      "1/1 [==============================] - 0s 98ms/step - loss: 0.0052 - accuracy: 1.0000 - mse: 0.4949 - val_loss: 0.8833 - val_accuracy: 0.3333 - val_mse: 0.2691\n",
      "Epoch 53/100\n",
      "1/1 [==============================] - 0s 93ms/step - loss: 0.0051 - accuracy: 1.0000 - mse: 0.4949 - val_loss: 0.8819 - val_accuracy: 0.3333 - val_mse: 0.2689\n",
      "Epoch 54/100\n",
      "1/1 [==============================] - 0s 101ms/step - loss: 0.0051 - accuracy: 1.0000 - mse: 0.4950 - val_loss: 0.8802 - val_accuracy: 0.3333 - val_mse: 0.2686\n",
      "Epoch 55/100\n",
      "1/1 [==============================] - 0s 105ms/step - loss: 0.0050 - accuracy: 1.0000 - mse: 0.4951 - val_loss: 0.8782 - val_accuracy: 0.3333 - val_mse: 0.2685\n",
      "Epoch 56/100\n",
      "1/1 [==============================] - 0s 99ms/step - loss: 0.0049 - accuracy: 1.0000 - mse: 0.4951 - val_loss: 0.8759 - val_accuracy: 0.3333 - val_mse: 0.2683\n",
      "Epoch 57/100\n",
      "1/1 [==============================] - 0s 99ms/step - loss: 0.0049 - accuracy: 1.0000 - mse: 0.4952 - val_loss: 0.8720 - val_accuracy: 0.3333 - val_mse: 0.2680\n",
      "Epoch 58/100\n",
      "1/1 [==============================] - 0s 96ms/step - loss: 0.0048 - accuracy: 1.0000 - mse: 0.4952 - val_loss: 0.8686 - val_accuracy: 0.3333 - val_mse: 0.2677\n",
      "Epoch 59/100\n",
      "1/1 [==============================] - 0s 96ms/step - loss: 0.0048 - accuracy: 1.0000 - mse: 0.4953 - val_loss: 0.8643 - val_accuracy: 0.3333 - val_mse: 0.2673\n",
      "Epoch 60/100\n",
      "1/1 [==============================] - 0s 94ms/step - loss: 0.0047 - accuracy: 1.0000 - mse: 0.4953 - val_loss: 0.8612 - val_accuracy: 0.3333 - val_mse: 0.2669\n",
      "Epoch 61/100\n",
      "1/1 [==============================] - 0s 97ms/step - loss: 0.0046 - accuracy: 1.0000 - mse: 0.4954 - val_loss: 0.8579 - val_accuracy: 0.3333 - val_mse: 0.2665\n",
      "Epoch 62/100\n",
      "1/1 [==============================] - 0s 99ms/step - loss: 0.0046 - accuracy: 1.0000 - mse: 0.4954 - val_loss: 0.8550 - val_accuracy: 0.3333 - val_mse: 0.2662\n",
      "Epoch 63/100\n",
      "1/1 [==============================] - 0s 95ms/step - loss: 0.0045 - accuracy: 1.0000 - mse: 0.4955 - val_loss: 0.8519 - val_accuracy: 0.3333 - val_mse: 0.2659\n",
      "Epoch 64/100\n",
      "1/1 [==============================] - 0s 95ms/step - loss: 0.0045 - accuracy: 1.0000 - mse: 0.4955 - val_loss: 0.8488 - val_accuracy: 0.3333 - val_mse: 0.2655\n",
      "Epoch 65/100\n",
      "1/1 [==============================] - 0s 101ms/step - loss: 0.0044 - accuracy: 1.0000 - mse: 0.4956 - val_loss: 0.8455 - val_accuracy: 0.3333 - val_mse: 0.2651\n",
      "Epoch 66/100\n",
      "1/1 [==============================] - 0s 96ms/step - loss: 0.0044 - accuracy: 1.0000 - mse: 0.4956 - val_loss: 0.8426 - val_accuracy: 0.3333 - val_mse: 0.2648\n",
      "Epoch 67/100\n",
      "1/1 [==============================] - 0s 94ms/step - loss: 0.0044 - accuracy: 1.0000 - mse: 0.4957 - val_loss: 0.8399 - val_accuracy: 0.3333 - val_mse: 0.2644\n",
      "Epoch 68/100\n",
      "1/1 [==============================] - 0s 102ms/step - loss: 0.0043 - accuracy: 1.0000 - mse: 0.4957 - val_loss: 0.8380 - val_accuracy: 0.3333 - val_mse: 0.2642\n",
      "Epoch 69/100\n",
      "1/1 [==============================] - 0s 88ms/step - loss: 0.0043 - accuracy: 1.0000 - mse: 0.4958 - val_loss: 0.8361 - val_accuracy: 0.3333 - val_mse: 0.2639\n",
      "Epoch 70/100\n",
      "1/1 [==============================] - 0s 91ms/step - loss: 0.0042 - accuracy: 1.0000 - mse: 0.4958 - val_loss: 0.8348 - val_accuracy: 0.3333 - val_mse: 0.2637\n",
      "Epoch 71/100\n",
      "1/1 [==============================] - 0s 101ms/step - loss: 0.0042 - accuracy: 1.0000 - mse: 0.4959 - val_loss: 0.8334 - val_accuracy: 0.3333 - val_mse: 0.2636\n",
      "Epoch 72/100\n",
      "1/1 [==============================] - 0s 101ms/step - loss: 0.0041 - accuracy: 1.0000 - mse: 0.4959 - val_loss: 0.8326 - val_accuracy: 0.3333 - val_mse: 0.2635\n",
      "Epoch 73/100\n",
      "1/1 [==============================] - 0s 102ms/step - loss: 0.0041 - accuracy: 1.0000 - mse: 0.4959 - val_loss: 0.8321 - val_accuracy: 0.3333 - val_mse: 0.2634\n",
      "Epoch 74/100\n",
      "1/1 [==============================] - 0s 105ms/step - loss: 0.0040 - accuracy: 1.0000 - mse: 0.4960 - val_loss: 0.8320 - val_accuracy: 0.3333 - val_mse: 0.2633\n",
      "Epoch 75/100\n",
      "1/1 [==============================] - 0s 106ms/step - loss: 0.0040 - accuracy: 1.0000 - mse: 0.4960 - val_loss: 0.8321 - val_accuracy: 0.3333 - val_mse: 0.2632\n",
      "Epoch 76/100\n",
      "1/1 [==============================] - 0s 104ms/step - loss: 0.0040 - accuracy: 1.0000 - mse: 0.4961 - val_loss: 0.8326 - val_accuracy: 0.3333 - val_mse: 0.2631\n",
      "Epoch 77/100\n",
      "1/1 [==============================] - 0s 94ms/step - loss: 0.0039 - accuracy: 1.0000 - mse: 0.4961 - val_loss: 0.8320 - val_accuracy: 0.3333 - val_mse: 0.2630\n",
      "Epoch 78/100\n",
      "1/1 [==============================] - 0s 95ms/step - loss: 0.0039 - accuracy: 1.0000 - mse: 0.4961 - val_loss: 0.8319 - val_accuracy: 0.3333 - val_mse: 0.2629\n",
      "Epoch 79/100\n",
      "1/1 [==============================] - 0s 93ms/step - loss: 0.0039 - accuracy: 1.0000 - mse: 0.4962 - val_loss: 0.8310 - val_accuracy: 0.3333 - val_mse: 0.2627\n",
      "Epoch 80/100\n",
      "1/1 [==============================] - 0s 100ms/step - loss: 0.0038 - accuracy: 1.0000 - mse: 0.4962 - val_loss: 0.8300 - val_accuracy: 0.3333 - val_mse: 0.2626\n",
      "Epoch 81/100\n",
      "1/1 [==============================] - 0s 97ms/step - loss: 0.0038 - accuracy: 1.0000 - mse: 0.4962 - val_loss: 0.8292 - val_accuracy: 0.3333 - val_mse: 0.2625\n",
      "Epoch 82/100\n",
      "1/1 [==============================] - 0s 100ms/step - loss: 0.0037 - accuracy: 1.0000 - mse: 0.4963 - val_loss: 0.8285 - val_accuracy: 0.3333 - val_mse: 0.2624\n",
      "Epoch 83/100\n",
      "1/1 [==============================] - 0s 100ms/step - loss: 0.0037 - accuracy: 1.0000 - mse: 0.4963 - val_loss: 0.8287 - val_accuracy: 0.3333 - val_mse: 0.2624\n",
      "Epoch 84/100\n",
      "1/1 [==============================] - 0s 98ms/step - loss: 0.0037 - accuracy: 1.0000 - mse: 0.4963 - val_loss: 0.8289 - val_accuracy: 0.3333 - val_mse: 0.2624\n",
      "Epoch 85/100\n",
      "1/1 [==============================] - 0s 99ms/step - loss: 0.0036 - accuracy: 1.0000 - mse: 0.4964 - val_loss: 0.8300 - val_accuracy: 0.5000 - val_mse: 0.2624\n",
      "Epoch 86/100\n",
      "1/1 [==============================] - 0s 100ms/step - loss: 0.0036 - accuracy: 1.0000 - mse: 0.4964 - val_loss: 0.8302 - val_accuracy: 0.5000 - val_mse: 0.2624\n",
      "Epoch 87/100\n",
      "1/1 [==============================] - 0s 109ms/step - loss: 0.0036 - accuracy: 1.0000 - mse: 0.4964 - val_loss: 0.8312 - val_accuracy: 0.5000 - val_mse: 0.2626\n",
      "Epoch 88/100\n",
      "1/1 [==============================] - 0s 97ms/step - loss: 0.0035 - accuracy: 1.0000 - mse: 0.4965 - val_loss: 0.8317 - val_accuracy: 0.5000 - val_mse: 0.2626\n",
      "Epoch 89/100\n",
      "1/1 [==============================] - 0s 96ms/step - loss: 0.0035 - accuracy: 1.0000 - mse: 0.4965 - val_loss: 0.8328 - val_accuracy: 0.5000 - val_mse: 0.2628\n",
      "Epoch 90/100\n",
      "1/1 [==============================] - 0s 94ms/step - loss: 0.0035 - accuracy: 1.0000 - mse: 0.4965 - val_loss: 0.8337 - val_accuracy: 0.5000 - val_mse: 0.2629\n",
      "Epoch 91/100\n",
      "1/1 [==============================] - 0s 90ms/step - loss: 0.0035 - accuracy: 1.0000 - mse: 0.4966 - val_loss: 0.8346 - val_accuracy: 0.5000 - val_mse: 0.2631\n",
      "Epoch 92/100\n",
      "1/1 [==============================] - 0s 89ms/step - loss: 0.0034 - accuracy: 1.0000 - mse: 0.4966 - val_loss: 0.8350 - val_accuracy: 0.5000 - val_mse: 0.2632\n",
      "Epoch 93/100\n",
      "1/1 [==============================] - 0s 93ms/step - loss: 0.0034 - accuracy: 1.0000 - mse: 0.4966 - val_loss: 0.8360 - val_accuracy: 0.5000 - val_mse: 0.2635\n",
      "Epoch 94/100\n",
      "1/1 [==============================] - 0s 93ms/step - loss: 0.0034 - accuracy: 1.0000 - mse: 0.4967 - val_loss: 0.8359 - val_accuracy: 0.3333 - val_mse: 0.2636\n",
      "Epoch 95/100\n"
     ]
    },
    {
     "name": "stdout",
     "output_type": "stream",
     "text": [
      "1/1 [==============================] - 0s 105ms/step - loss: 0.0033 - accuracy: 1.0000 - mse: 0.4967 - val_loss: 0.8368 - val_accuracy: 0.3333 - val_mse: 0.2638\n",
      "Epoch 96/100\n",
      "1/1 [==============================] - 0s 103ms/step - loss: 0.0033 - accuracy: 1.0000 - mse: 0.4967 - val_loss: 0.8363 - val_accuracy: 0.3333 - val_mse: 0.2639\n",
      "Epoch 97/100\n",
      "1/1 [==============================] - 0s 107ms/step - loss: 0.0033 - accuracy: 1.0000 - mse: 0.4967 - val_loss: 0.8369 - val_accuracy: 0.3333 - val_mse: 0.2641\n",
      "Epoch 98/100\n",
      "1/1 [==============================] - 0s 108ms/step - loss: 0.0033 - accuracy: 1.0000 - mse: 0.4968 - val_loss: 0.8371 - val_accuracy: 0.5000 - val_mse: 0.2643\n",
      "Epoch 99/100\n",
      "1/1 [==============================] - 0s 101ms/step - loss: 0.0032 - accuracy: 1.0000 - mse: 0.4968 - val_loss: 0.8368 - val_accuracy: 0.5000 - val_mse: 0.2645\n",
      "Epoch 100/100\n",
      "1/1 [==============================] - 0s 105ms/step - loss: 0.0032 - accuracy: 1.0000 - mse: 0.4968 - val_loss: 0.8367 - val_accuracy: 0.5000 - val_mse: 0.2647\n"
     ]
    },
    {
     "data": {
      "text/plain": [
       "<keras.callbacks.History at 0x7fb8bc1b9fd0>"
      ]
     },
     "execution_count": 74,
     "metadata": {},
     "output_type": "execute_result"
    }
   ],
   "source": [
    "model.fit(client_model.process_x(celeba_sample_train_data[\"x\"]), \n",
    "          client_model.process_y(celeba_sample_train_data[\"y\"]), \n",
    "          validation_data= (client_model.process_x(celeba_sample_test_data[\"x\"]), \n",
    "                            client_model.process_y(celeba_sample_test_data[\"y\"])),\n",
    "          epochs=100)"
   ]
  },
  {
   "cell_type": "code",
   "execution_count": 76,
   "metadata": {},
   "outputs": [
    {
     "name": "stdout",
     "output_type": "stream",
     "text": [
      "1/1 [==============================] - 0s 21ms/step - loss: 1.1833 - accuracy: 0.5000 - mse: 0.3076\n"
     ]
    },
    {
     "data": {
      "text/plain": [
       "[1.1832951307296753, 0.5, 0.30760371685028076]"
      ]
     },
     "execution_count": 76,
     "metadata": {},
     "output_type": "execute_result"
    }
   ],
   "source": [
    "model.evaluate(\n",
    "    x=client_model.process_x(celeba_sample_validation_data[\"x\"]),\n",
    "    y=client_model.process_y(celeba_sample_validation_data[\"y\"]), \n",
    ")"
   ]
  }
 ],
 "metadata": {
  "kernelspec": {
   "display_name": "Python 3 (ipykernel)",
   "language": "python",
   "name": "python3"
  },
  "language_info": {
   "codemirror_mode": {
    "name": "ipython",
    "version": 3
   },
   "file_extension": ".py",
   "mimetype": "text/x-python",
   "name": "python",
   "nbconvert_exporter": "python",
   "pygments_lexer": "ipython3",
   "version": "3.9.9"
  }
 },
 "nbformat": 4,
 "nbformat_minor": 1
}