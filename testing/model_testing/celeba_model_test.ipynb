{
 "cells": [
  {
   "cell_type": "markdown",
   "metadata": {
    "collapsed": true,
    "pycharm": {
     "name": "#%% md\n"
    }
   },
   "source": [
    "# Celeba Model Testing\n",
    "\n",
    "Goals:\n",
    "- Load Data from data folder\n",
    "- Process Data for model\n",
    "- Run Training for some Generations\n",
    "\n",
    "## Load Data"
   ]
  },
  {
   "cell_type": "code",
   "execution_count": 13,
   "metadata": {
    "pycharm": {
     "name": "#%%\n"
    }
   },
   "outputs": [
    {
     "name": "stdout",
     "output_type": "stream",
     "text": [
      "The autoreload extension is already loaded. To reload it, use:\n",
      "  %reload_ext autoreload\n"
     ]
    }
   ],
   "source": [
    "from pathlib import Path\n",
    "import os\n",
    "from sources.datasets.celeba.celeba_client_dataset import CelebaClientDataset\n",
    "%load_ext autoreload\n",
    "%autoreload 2"
   ]
  },
  {
   "cell_type": "code",
   "execution_count": 14,
   "metadata": {
    "pycharm": {
     "name": "#%%\n"
    }
   },
   "outputs": [],
   "source": [
    "base_directory = Path(os.getcwd()).parent.parent / \"data\"\n",
    "celeba_dataset = CelebaClientDataset(base_directory, \"0\")"
   ]
  },
  {
   "cell_type": "markdown",
   "metadata": {},
   "source": [
    "## Create Model"
   ]
  },
  {
   "cell_type": "code",
   "execution_count": 15,
   "metadata": {
    "pycharm": {
     "name": "#%%\n"
    }
   },
   "outputs": [
    {
     "name": "stdout",
     "output_type": "stream",
     "text": [
      "(None, 6, 6, 32)\n"
     ]
    }
   ],
   "source": [
    "from sources.models.celeba.celeba_client_model import CelebaClientModel\n",
    "\n",
    "client_model = CelebaClientModel(0.1)\n",
    "model = client_model.get_model()"
   ]
  },
  {
   "cell_type": "code",
   "execution_count": 16,
   "metadata": {
    "pycharm": {
     "name": "#%%\n"
    },
    "scrolled": true
   },
   "outputs": [
    {
     "name": "stdout",
     "output_type": "stream",
     "text": [
      "Model: \"sequential_1\"\n",
      "_________________________________________________________________\n",
      " Layer (type)                Output Shape              Param #   \n",
      "=================================================================\n",
      " conv2d_4 (Conv2D)           (None, 84, 84, 32)        896       \n",
      "                                                                 \n",
      " batch_normalization_4 (Batc  (None, 84, 84, 32)       128       \n",
      " hNormalization)                                                 \n",
      "                                                                 \n",
      " max_pooling2d_4 (MaxPooling  (None, 42, 42, 32)       0         \n",
      " 2D)                                                             \n",
      "                                                                 \n",
      " re_lu_4 (ReLU)              (None, 42, 42, 32)        0         \n",
      "                                                                 \n",
      " conv2d_5 (Conv2D)           (None, 42, 42, 32)        9248      \n",
      "                                                                 \n",
      " batch_normalization_5 (Batc  (None, 42, 42, 32)       128       \n",
      " hNormalization)                                                 \n",
      "                                                                 \n",
      " max_pooling2d_5 (MaxPooling  (None, 21, 21, 32)       0         \n",
      " 2D)                                                             \n",
      "                                                                 \n",
      " re_lu_5 (ReLU)              (None, 21, 21, 32)        0         \n",
      "                                                                 \n",
      " conv2d_6 (Conv2D)           (None, 21, 21, 32)        9248      \n",
      "                                                                 \n",
      " batch_normalization_6 (Batc  (None, 21, 21, 32)       128       \n",
      " hNormalization)                                                 \n",
      "                                                                 \n",
      " max_pooling2d_6 (MaxPooling  (None, 11, 11, 32)       0         \n",
      " 2D)                                                             \n",
      "                                                                 \n",
      " re_lu_6 (ReLU)              (None, 11, 11, 32)        0         \n",
      "                                                                 \n",
      " conv2d_7 (Conv2D)           (None, 11, 11, 32)        9248      \n",
      "                                                                 \n",
      " batch_normalization_7 (Batc  (None, 11, 11, 32)       128       \n",
      " hNormalization)                                                 \n",
      "                                                                 \n",
      " max_pooling2d_7 (MaxPooling  (None, 6, 6, 32)         0         \n",
      " 2D)                                                             \n",
      "                                                                 \n",
      " re_lu_7 (ReLU)              (None, 6, 6, 32)          0         \n",
      "                                                                 \n",
      " flatten_1 (Flatten)         (None, 1152)              0         \n",
      "                                                                 \n",
      " dense_1 (Dense)             (None, 2)                 2306      \n",
      "                                                                 \n",
      " softmax_1 (Softmax)         (None, 2)                 0         \n",
      "                                                                 \n",
      "=================================================================\n",
      "Total params: 31,458\n",
      "Trainable params: 31,202\n",
      "Non-trainable params: 256\n",
      "_________________________________________________________________\n"
     ]
    }
   ],
   "source": [
    "model.summary()"
   ]
  },
  {
   "cell_type": "markdown",
   "metadata": {},
   "source": [
    "## Process Data, Compile Model and Fit"
   ]
  },
  {
   "cell_type": "code",
   "execution_count": 17,
   "metadata": {},
   "outputs": [],
   "source": [
    "model.compile(optimizer=client_model.get_default_optimizer(),\n",
    "             loss=client_model.get_default_loss_function(),\n",
    "             metrics=['accuracy', \"mse\"])"
   ]
  },
  {
   "cell_type": "code",
   "execution_count": 18,
   "metadata": {
    "scrolled": true
   },
   "outputs": [
    {
     "name": "stdout",
     "output_type": "stream",
     "text": [
      "Epoch 1/10\n",
      "1/1 [==============================] - 1s 608ms/step - loss: 0.9791 - accuracy: 0.3333 - mse: 0.3478 - val_loss: 0.7005 - val_accuracy: 0.8333 - val_mse: 0.3855\n",
      "Epoch 2/10\n",
      "1/1 [==============================] - 0s 45ms/step - loss: 0.1948 - accuracy: 1.0000 - mse: 0.4154 - val_loss: 2.5042 - val_accuracy: 0.3333 - val_mse: 0.4798\n",
      "Epoch 3/10\n",
      "1/1 [==============================] - 0s 49ms/step - loss: 0.0694 - accuracy: 1.0000 - mse: 0.4471 - val_loss: 0.4414 - val_accuracy: 0.6667 - val_mse: 0.3078\n",
      "Epoch 4/10\n",
      "1/1 [==============================] - 0s 49ms/step - loss: 0.0077 - accuracy: 1.0000 - mse: 0.4924 - val_loss: 0.4239 - val_accuracy: 0.6667 - val_mse: 0.3087\n",
      "Epoch 5/10\n",
      "1/1 [==============================] - 0s 43ms/step - loss: 0.0071 - accuracy: 1.0000 - mse: 0.4930 - val_loss: 0.4170 - val_accuracy: 0.8333 - val_mse: 0.3091\n",
      "Epoch 6/10\n",
      "1/1 [==============================] - 0s 48ms/step - loss: 0.0066 - accuracy: 1.0000 - mse: 0.4934 - val_loss: 0.4129 - val_accuracy: 0.8333 - val_mse: 0.3095\n",
      "Epoch 7/10\n",
      "1/1 [==============================] - 0s 47ms/step - loss: 0.0063 - accuracy: 1.0000 - mse: 0.4938 - val_loss: 0.4102 - val_accuracy: 0.8333 - val_mse: 0.3097\n",
      "Epoch 8/10\n",
      "1/1 [==============================] - 0s 47ms/step - loss: 0.0059 - accuracy: 1.0000 - mse: 0.4942 - val_loss: 0.4078 - val_accuracy: 0.8333 - val_mse: 0.3100\n",
      "Epoch 9/10\n",
      "1/1 [==============================] - 0s 46ms/step - loss: 0.0056 - accuracy: 1.0000 - mse: 0.4944 - val_loss: 0.4066 - val_accuracy: 0.8333 - val_mse: 0.3104\n",
      "Epoch 10/10\n",
      "1/1 [==============================] - 0s 50ms/step - loss: 0.0053 - accuracy: 1.0000 - mse: 0.4947 - val_loss: 0.4056 - val_accuracy: 0.8333 - val_mse: 0.3106\n"
     ]
    },
    {
     "data": {
      "text/plain": [
       "<keras.callbacks.History at 0x7f0fc4491e50>"
      ]
     },
     "execution_count": 18,
     "metadata": {},
     "output_type": "execute_result"
    }
   ],
   "source": [
    "model.fit(*celeba_dataset.test_data,\n",
    "          validation_data=celeba_dataset.test_data,\n",
    "          epochs=10)"
   ]
  },
  {
   "cell_type": "code",
   "execution_count": 19,
   "metadata": {},
   "outputs": [
    {
     "name": "stdout",
     "output_type": "stream",
     "text": [
      "1/1 [==============================] - 0s 19ms/step - loss: 0.6956 - accuracy: 0.6667 - mse: 0.3335\n"
     ]
    },
    {
     "data": {
      "text/plain": [
       "[0.6955581307411194, 0.6666666865348816, 0.3334653377532959]"
      ]
     },
     "execution_count": 19,
     "metadata": {},
     "output_type": "execute_result"
    }
   ],
   "source": [
    "model.evaluate(*celeba_dataset.validation_data)"
   ]
  }
 ],
 "metadata": {
  "kernelspec": {
   "display_name": "Python 3 (ipykernel)",
   "language": "python",
   "name": "python3"
  },
  "language_info": {
   "codemirror_mode": {
    "name": "ipython",
    "version": 3
   },
   "file_extension": ".py",
   "mimetype": "text/x-python",
   "name": "python",
   "nbconvert_exporter": "python",
   "pygments_lexer": "ipython3",
   "version": "3.9.9"
  }
 },
 "nbformat": 4,
 "nbformat_minor": 1
}